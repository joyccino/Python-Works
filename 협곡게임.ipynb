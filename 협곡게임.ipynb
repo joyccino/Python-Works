{
  "nbformat": 4,
  "nbformat_minor": 0,
  "metadata": {
    "colab": {
      "name": "협곡게임.ipynb",
      "provenance": [],
      "collapsed_sections": []
    },
    "kernelspec": {
      "name": "python3",
      "display_name": "Python 3"
    }
  },
  "cells": [
    {
      "cell_type": "code",
      "metadata": {
        "id": "pvviIwC0ey4r",
        "colab_type": "code",
        "colab": {}
      },
      "source": [
        "# 본 게임은 달남티쳐님의 지지와 도움으로 탄생하였습니다.\n",
        "\n",
        "# 약간의 긴장감+현실감 가미를 위해 원작 작품에서 추가된 부분:\n",
        "# 1. 플레이어의 초기 hp와 골드 랜덤으로 지정\n",
        "# 2. 플레이어의 공격력과 공격후 얻는 골드 랜덤으로 지정\n",
        "# 3. 플레이어의 hp가 0 이하이면 체력 소진으로 사망 가능\n",
        "# 4. 플레이어가 공격을 멈추고 휴식하는 동안 몬스터도 랜덤으로 휴식하여 hp 충전 가능."
      ],
      "execution_count": null,
      "outputs": []
    },
    {
      "cell_type": "code",
      "metadata": {
        "id": "6LCeRdiZmjL8",
        "colab_type": "code",
        "colab": {
          "base_uri": "https://localhost:8080/",
          "height": 1000
        },
        "outputId": "b1c96134-c211-45e3-fadb-68786fa8f49a"
      },
      "source": [
        "import matplotlib.pyplot as plt\n",
        "import matplotlib as mpl\n",
        "import numpy as np\n",
        "from random import *\n",
        "year = randint(500, 2021)\n",
        "shp = randint(10, 100) #initial에너지\n",
        "i = randint(15, 100)  #initial골드\n",
        "spw = randint(10, 50) #파워\n",
        "sm = randint(10, 80) #공격시 hp소진\n",
        "sag = randint(5, 50) #공격시 얻는 골드\n",
        "sg = randint(10, 50) #쉼 가격\n",
        "sr = randint(10, 50) #self rest\n",
        "mr = randint(0, 100) #monster rest\n",
        "\n",
        "\n",
        "class Game:\n",
        "  def __init__(self) :\n",
        "    self.energy = shp\n",
        "    self.gold = i\n",
        "    self.monster_hp = 100\n",
        "    self.isVictory = False\n",
        "    self.isDefeated = False\n",
        "    self.isBankrupt = False\n",
        "\n",
        "  def start(self):\n",
        "    print('게임을 시작합니다')\n",
        "    player = input('당신의 닉네임은?')\n",
        "    print(player,' (이)가 사는 세계의 이름은?')\n",
        "    world = input()\n",
        "    print('')\n",
        "    print('')\n",
        "    print('')\n",
        "    print('')\n",
        "    print(player,' 님, 이제 눈을 뜨세요.')\n",
        "    print('')\n",
        "    print('이곳은 ',year,' 년도 버려진',world,' 의 협곡입니다.')\n",
        "    print('당신과 몬스터, 둘만 존재하는 세계인',world,' 은/는 황폐한 곳입니다...')\n",
        "    print(player,' 님의 주머니엔 ',i,'골드가 있습니다.')\n",
        "    print('체력은 아직 ',shp,' 만큼 남았습니다.')\n",
        "    print('')\n",
        "    print('파산과 에너지 방전을 주의하며 몬스터를 무찔러',world,' 을/를 탈출하세요.')\n",
        "    print('')\n",
        "    print(player,' 님, 건투를 빕니다!')\n",
        "    print('')\n",
        "    print('')\n",
        "    print('')\n",
        "    print('')\n",
        "\n",
        "    self.player_status()\n",
        "    self.playing()\n",
        "    if self.isVictory :\n",
        "      print('')\n",
        "      print('승리하였습니다 !')\n",
        "      print(player,' 은/는 기쁨과 즐거움을 얻었습니다.')\n",
        "      print('')\n",
        "      print(player,' 의 저녁은 치킨입니닭')\n",
        "      print('게임을 종료합니다.')\n",
        "    if self.isDefeated :\n",
        "      print('')\n",
        "      print('체력이 모두 소진되어 사망하고 말았습니다...')\n",
        "      print('')\n",
        "      print('안타깝군요.')\n",
        "      print('게임을 종료합니다.')\n",
        "    if self.isBankrupt :\n",
        "      print('')\n",
        "      print('하지만 골드를 모두 소진하여 파산하고 말았습니다.')\n",
        "      print('파산하면 게임을 계속 진행할 수 없습니다.')\n",
        "      print('')\n",
        "      print('안타깝군요')\n",
        "      print('게임을 종료합니다.')\n",
        "\n",
        "\n",
        "  def player_status(self) :\n",
        "    label = ['gold', 'energy']\n",
        "    index = np.arange(len(label))\n",
        "  \n",
        "    plt.figure(figsize = (5,1))\n",
        "    plt.title('player')\n",
        "    plt.barh(index, [self.gold, self.energy], color = 'red')\n",
        "    plt.xticks(np.arange(0,110,50))\n",
        "    plt.yticks(index, label)\n",
        "    plt.show()\n",
        "  \n",
        "  def monster_status(self) :\n",
        "    label = ['energy']\n",
        "    index = np.arange(len(label))\n",
        "\n",
        "    plt.figure(figsize = (5,0.5))\n",
        "    plt.title('monster')\n",
        "    plt.barh(index,self.monster_hp, color = 'blue')\n",
        "    plt.xticks(np.arange(0,110,50))\n",
        "    plt.yticks(index, label)\n",
        "    plt.show()\n",
        "  \n",
        "  def rest(self) :\n",
        "    self.energy += i\n",
        "    self.gold -= sg\n",
        "    self.monster_hp += mr\n",
        "    self.player_status()\n",
        "    print(sg,' 골드를 사용해 휴식을 취했습니다.')\n",
        "    print(f'현재 소지금 {self.gold} 골드.')\n",
        "    print('체력은',sr,' 만큼 증가하였습니다.')\n",
        "\n",
        "  def attack(self) :\n",
        "    self.energy -= sm\n",
        "    self.gold += sag\n",
        "    self.monster_hp -= spw\n",
        "    self.player_status()\n",
        "    self.monster_status()\n",
        "    print('몬스터를 공격했습니다.')\n",
        "    print('체력이 ',sm,' 만큼 소모되었습니다.')\n",
        "    print(f'몬스터 에너지 : {self.monster_hp}')\n",
        "\n",
        "  def playing(self) :\n",
        "    try :\n",
        "      while self.monster_hp > 0 and self.energy > 0 and self.gold > 0:\n",
        "        cmd = int(input('게임을 조작해주세요.\\n[1] 휴식 [2] 공격 [3] 종료\\n> '))\n",
        "        if cmd == 1 :\n",
        "          self.rest()\n",
        "        elif cmd == 2 :\n",
        "          self.attack()\n",
        "        elif cmd == 3 :\n",
        "          break\n",
        "        else :\n",
        "          raise ValueError\n",
        "    except ValueError :\n",
        "      print('아! 숫자 1 ~ 3 중에 하나만 입력하세요 !!')\n",
        "      self.playing()\n",
        "    finally :\n",
        "      if self.monster_hp < 1 :\n",
        "        self.isVictory = True\n",
        "      if self.energy < 1 :\n",
        "        self.isDefeated = True\n",
        "      if self.gold < 1:\n",
        "        self.isBankrupt = True\n",
        "\n",
        "Game().start()"
      ],
      "execution_count": 152,
      "outputs": [
        {
          "output_type": "stream",
          "text": [
            "게임을 시작합니다\n",
            "당신의 닉네임은?베니\n",
            "베니  (이)가 사는 세계의 이름은?\n",
            "베니월드\n",
            "\n",
            "\n",
            "\n",
            "\n",
            "베니  님, 이제 눈을 뜨세요.\n",
            "\n",
            "이곳은  1390  년도 버려진 베니월드  의 협곡입니다.\n",
            "당신과 몬스터, 둘만 존재하는 세계인 베니월드  은/는 황폐한 곳입니다...\n",
            "베니  님의 주머니엔  100 골드가 있습니다.\n",
            "체력은 아직  88  만큼 남았습니다.\n",
            "\n",
            "파산과 에너지 방전을 주의하며 몬스터를 무찔러 베니월드  을/를 탈출하세요.\n",
            "\n",
            "베니  님, 건투를 빕니다!\n",
            "\n",
            "\n",
            "\n",
            "\n"
          ],
          "name": "stdout"
        },
        {
          "output_type": "display_data",
          "data": {
            "image/png": "[encoded data removed]",
            "text/plain": [
              "<Figure size 360x72 with 1 Axes>"
            ]
          },
          "metadata": {
            "tags": [],
            "needs_background": "light"
          }
        },
        {
          "output_type": "stream",
          "text": [
            "게임을 조작해주세요.\n",
            "[1] 휴식 [2] 공격 [3] 종료\n",
            "> 2\n"
          ],
          "name": "stdout"
        },
        {
          "output_type": "display_data",
          "data": {
            "image/png": "[encoded data removed]",
            "text/plain": [
              "<Figure size 360x72 with 1 Axes>"
            ]
          },
          "metadata": {
            "tags": [],
            "needs_background": "light"
          }
        },
        {
          "output_type": "display_data",
          "data": {
            "image/png": "[encoded data removed]",
            "text/plain": [
              "<Figure size 360x36 with 1 Axes>"
            ]
          },
          "metadata": {
            "tags": [],
            "needs_background": "light"
          }
        },
        {
          "output_type": "stream",
          "text": [
            "몬스터를 공격했습니다.\n",
            "체력이  40  만큼 소모되었습니다.\n",
            "몬스터 에너지 : 85\n",
            "게임을 조작해주세요.\n",
            "[1] 휴식 [2] 공격 [3] 종료\n",
            "> 1\n"
          ],
          "name": "stdout"
        },
        {
          "output_type": "display_data",
          "data": {
            "image/png": "[encoded data removed]",
            "text/plain": [
              "<Figure size 360x72 with 1 Axes>"
            ]
          },
          "metadata": {
            "tags": [],
            "needs_background": "light"
          }
        },
        {
          "output_type": "stream",
          "text": [
            "41  골드를 사용해 휴식을 취했습니다.\n",
            "현재 소지금 104 골드.\n",
            "체력은 50  만큼 증가하였습니다.\n",
            "게임을 조작해주세요.\n",
            "[1] 휴식 [2] 공격 [3] 종료\n",
            "> 2\n"
          ],
          "name": "stdout"
        },
        {
          "output_type": "display_data",
          "data": {
            "image/png": "[encoded data removed]",
            "text/plain": [
              "<Figure size 360x72 with 1 Axes>"
            ]
          },
          "metadata": {
            "tags": [],
            "needs_background": "light"
          }
        },
        {
          "output_type": "display_data",
          "data": {
            "image/png": "[encoded data removed]",
            "text/plain": [
              "<Figure size 360x36 with 1 Axes>"
            ]
          },
          "metadata": {
            "tags": [],
            "needs_background": "light"
          }
        },
        {
          "output_type": "stream",
          "text": [
            "몬스터를 공격했습니다.\n",
            "체력이  40  만큼 소모되었습니다.\n",
            "몬스터 에너지 : 90\n",
            "게임을 조작해주세요.\n",
            "[1] 휴식 [2] 공격 [3] 종료\n",
            "> 2\n"
          ],
          "name": "stdout"
        },
        {
          "output_type": "display_data",
          "data": {
            "image/png": "[encoded data removed]",
            "text/plain": [
              "<Figure size 360x72 with 1 Axes>"
            ]
          },
          "metadata": {
            "tags": [],
            "needs_background": "light"
          }
        },
        {
          "output_type": "display_data",
          "data": {
            "image/png": "[encoded data removed]",
            "text/plain": [
              "<Figure size 360x36 with 1 Axes>"
            ]
          },
          "metadata": {
            "tags": [],
            "needs_background": "light"
          }
        },
        {
          "output_type": "stream",
          "text": [
            "몬스터를 공격했습니다.\n",
            "체력이  40  만큼 소모되었습니다.\n",
            "몬스터 에너지 : 75\n",
            "게임을 조작해주세요.\n",
            "[1] 휴식 [2] 공격 [3] 종료\n",
            "> 2\n"
          ],
          "name": "stdout"
        },
        {
          "output_type": "display_data",
          "data": {
            "image/png": "[encoded data removed]",
            "text/plain": [
              "<Figure size 360x72 with 1 Axes>"
            ]
          },
          "metadata": {
            "tags": [],
            "needs_background": "light"
          }
        },
        {
          "output_type": "display_data",
          "data": {
            "image/png": "[encoded data removed]",
            "text/plain": [
              "<Figure size 360x36 with 1 Axes>"
            ]
          },
          "metadata": {
            "tags": [],
            "needs_background": "light"
          }
        },
        {
          "output_type": "stream",
          "text": [
            "몬스터를 공격했습니다.\n",
            "체력이  40  만큼 소모되었습니다.\n",
            "몬스터 에너지 : 60\n",
            "게임을 조작해주세요.\n",
            "[1] 휴식 [2] 공격 [3] 종료\n",
            "> 1\n"
          ],
          "name": "stdout"
        },
        {
          "output_type": "display_data",
          "data": {
            "image/png": "[encoded data removed]",
            "text/plain": [
              "<Figure size 360x72 with 1 Axes>"
            ]
          },
          "metadata": {
            "tags": [],
            "needs_background": "light"
          }
        },
        {
          "output_type": "stream",
          "text": [
            "41  골드를 사용해 휴식을 취했습니다.\n",
            "현재 소지금 198 골드.\n",
            "체력은 50  만큼 증가하였습니다.\n",
            "게임을 조작해주세요.\n",
            "[1] 휴식 [2] 공격 [3] 종료\n",
            "> 2\n"
          ],
          "name": "stdout"
        },
        {
          "output_type": "display_data",
          "data": {
            "image/png": "[encoded data removed]",
            "text/plain": [
              "<Figure size 360x72 with 1 Axes>"
            ]
          },
          "metadata": {
            "tags": [],
            "needs_background": "light"
          }
        },
        {
          "output_type": "display_data",
          "data": {
            "image/png": "[encoded data removed]",
            "text/plain": [
              "<Figure size 360x36 with 1 Axes>"
            ]
          },
          "metadata": {
            "tags": [],
            "needs_background": "light"
          }
        },
        {
          "output_type": "stream",
          "text": [
            "몬스터를 공격했습니다.\n",
            "체력이  40  만큼 소모되었습니다.\n",
            "몬스터 에너지 : 65\n",
            "게임을 조작해주세요.\n",
            "[1] 휴식 [2] 공격 [3] 종료\n",
            "> 1\n"
          ],
          "name": "stdout"
        },
        {
          "output_type": "display_data",
          "data": {
            "image/png": "[encoded data removed]",
            "text/plain": [
              "<Figure size 360x72 with 1 Axes>"
            ]
          },
          "metadata": {
            "tags": [],
            "needs_background": "light"
          }
        },
        {
          "output_type": "stream",
          "text": [
            "41  골드를 사용해 휴식을 취했습니다.\n",
            "현재 소지금 202 골드.\n",
            "체력은 50  만큼 증가하였습니다.\n",
            "게임을 조작해주세요.\n",
            "[1] 휴식 [2] 공격 [3] 종료\n",
            "> 2\n"
          ],
          "name": "stdout"
        },
        {
          "output_type": "display_data",
          "data": {
            "image/png": "[encoded data removed]",
            "text/plain": [
              "<Figure size 360x72 with 1 Axes>"
            ]
          },
          "metadata": {
            "tags": [],
            "needs_background": "light"
          }
        },
        {
          "output_type": "display_data",
          "data": {
            "image/png": "[encoded data removed]",
            "text/plain": [
              "<Figure size 360x36 with 1 Axes>"
            ]
          },
          "metadata": {
            "tags": [],
            "needs_background": "light"
          }
        },
        {
          "output_type": "stream",
          "text": [
            "몬스터를 공격했습니다.\n",
            "체력이  40  만큼 소모되었습니다.\n",
            "몬스터 에너지 : 70\n",
            "게임을 조작해주세요.\n",
            "[1] 휴식 [2] 공격 [3] 종료\n",
            "> 1\n"
          ],
          "name": "stdout"
        },
        {
          "output_type": "display_data",
          "data": {
            "image/png": "[encoded data removed]",
            "text/plain": [
              "<Figure size 360x72 with 1 Axes>"
            ]
          },
          "metadata": {
            "tags": [],
            "needs_background": "light"
          }
        },
        {
          "output_type": "stream",
          "text": [
            "41  골드를 사용해 휴식을 취했습니다.\n",
            "현재 소지금 206 골드.\n",
            "체력은 50  만큼 증가하였습니다.\n",
            "게임을 조작해주세요.\n",
            "[1] 휴식 [2] 공격 [3] 종료\n",
            "> 2\n"
          ],
          "name": "stdout"
        },
        {
          "output_type": "display_data",
          "data": {
            "image/png": "[encoded data removed]",
            "text/plain": [
              "<Figure size 360x72 with 1 Axes>"
            ]
          },
          "metadata": {
            "tags": [],
            "needs_background": "light"
          }
        },
        {
          "output_type": "display_data",
          "data": {
            "image/png": "[encoded data removed]",
            "text/plain": [
              "<Figure size 360x36 with 1 Axes>"
            ]
          },
          "metadata": {
            "tags": [],
            "needs_background": "light"
          }
        },
        {
          "output_type": "stream",
          "text": [
            "몬스터를 공격했습니다.\n",
            "체력이  40  만큼 소모되었습니다.\n",
            "몬스터 에너지 : 75\n",
            "게임을 조작해주세요.\n",
            "[1] 휴식 [2] 공격 [3] 종료\n",
            "> 1\n"
          ],
          "name": "stdout"
        },
        {
          "output_type": "display_data",
          "data": {
            "image/png": "[encoded data removed]",
            "text/plain": [
              "<Figure size 360x72 with 1 Axes>"
            ]
          },
          "metadata": {
            "tags": [],
            "needs_background": "light"
          }
        },
        {
          "output_type": "stream",
          "text": [
            "41  골드를 사용해 휴식을 취했습니다.\n",
            "현재 소지금 210 골드.\n",
            "체력은 50  만큼 증가하였습니다.\n",
            "게임을 조작해주세요.\n",
            "[1] 휴식 [2] 공격 [3] 종료\n",
            "> 2\n"
          ],
          "name": "stdout"
        },
        {
          "output_type": "display_data",
          "data": {
            "image/png": "[encoded data removed]",
            "text/plain": [
              "<Figure size 360x72 with 1 Axes>"
            ]
          },
          "metadata": {
            "tags": [],
            "needs_background": "light"
          }
        },
        {
          "output_type": "display_data",
          "data": {
            "image/png": "[encoded data removed]",
            "text/plain": [
              "<Figure size 360x36 with 1 Axes>"
            ]
          },
          "metadata": {
            "tags": [],
            "needs_background": "light"
          }
        },
        {
          "output_type": "stream",
          "text": [
            "몬스터를 공격했습니다.\n",
            "체력이  40  만큼 소모되었습니다.\n",
            "몬스터 에너지 : 80\n",
            "게임을 조작해주세요.\n",
            "[1] 휴식 [2] 공격 [3] 종료\n",
            "> 1\n"
          ],
          "name": "stdout"
        },
        {
          "output_type": "display_data",
          "data": {
            "image/png": "[encoded data removed]",
            "text/plain": [
              "<Figure size 360x72 with 1 Axes>"
            ]
          },
          "metadata": {
            "tags": [],
            "needs_background": "light"
          }
        },
        {
          "output_type": "stream",
          "text": [
            "41  골드를 사용해 휴식을 취했습니다.\n",
            "현재 소지금 214 골드.\n",
            "체력은 50  만큼 증가하였습니다.\n",
            "게임을 조작해주세요.\n",
            "[1] 휴식 [2] 공격 [3] 종료\n",
            "> 2\n"
          ],
          "name": "stdout"
        },
        {
          "output_type": "display_data",
          "data": {
            "image/png": "[encoded data removed]",
            "text/plain": [
              "<Figure size 360x72 with 1 Axes>"
            ]
          },
          "metadata": {
            "tags": [],
            "needs_background": "light"
          }
        },
        {
          "output_type": "display_data",
          "data": {
            "image/png": "[encoded data removed]",
            "text/plain": [
              "<Figure size 360x36 with 1 Axes>"
            ]
          },
          "metadata": {
            "tags": [],
            "needs_background": "light"
          }
        },
        {
          "output_type": "stream",
          "text": [
            "몬스터를 공격했습니다.\n",
            "체력이  40  만큼 소모되었습니다.\n",
            "몬스터 에너지 : 85\n",
            "게임을 조작해주세요.\n",
            "[1] 휴식 [2] 공격 [3] 종료\n",
            "> 2\n"
          ],
          "name": "stdout"
        },
        {
          "output_type": "display_data",
          "data": {
            "image/png": "[encoded data removed]",
            "text/plain": [
              "<Figure size 360x72 with 1 Axes>"
            ]
          },
          "metadata": {
            "tags": [],
            "needs_background": "light"
          }
        },
        {
          "output_type": "display_data",
          "data": {
            "image/png": "[encoded data removed]",
            "text/plain": [
              "<Figure size 360x36 with 1 Axes>"
            ]
          },
          "metadata": {
            "tags": [],
            "needs_background": "light"
          }
        },
        {
          "output_type": "stream",
          "text": [
            "몬스터를 공격했습니다.\n",
            "체력이  40  만큼 소모되었습니다.\n",
            "몬스터 에너지 : 70\n",
            "게임을 조작해주세요.\n",
            "[1] 휴식 [2] 공격 [3] 종료\n",
            "> 2\n"
          ],
          "name": "stdout"
        },
        {
          "output_type": "display_data",
          "data": {
            "image/png": "[encoded data removed]",
            "text/plain": [
              "<Figure size 360x72 with 1 Axes>"
            ]
          },
          "metadata": {
            "tags": [],
            "needs_background": "light"
          }
        },
        {
          "output_type": "display_data",
          "data": {
            "image/png": "[encoded data removed]",
            "text/plain": [
              "<Figure size 360x36 with 1 Axes>"
            ]
          },
          "metadata": {
            "tags": [],
            "needs_background": "light"
          }
        },
        {
          "output_type": "stream",
          "text": [
            "몬스터를 공격했습니다.\n",
            "체력이  40  만큼 소모되었습니다.\n",
            "몬스터 에너지 : 55\n",
            "게임을 조작해주세요.\n",
            "[1] 휴식 [2] 공격 [3] 종료\n",
            "> 2\n"
          ],
          "name": "stdout"
        },
        {
          "output_type": "display_data",
          "data": {
            "image/png": "[encoded data removed]",
            "text/plain": [
              "<Figure size 360x72 with 1 Axes>"
            ]
          },
          "metadata": {
            "tags": [],
            "needs_background": "light"
          }
        },
        {
          "output_type": "display_data",
          "data": {
            "image/png": "[encoded data removed]",
            "text/plain": [
              "<Figure size 360x36 with 1 Axes>"
            ]
          },
          "metadata": {
            "tags": [],
            "needs_background": "light"
          }
        },
        {
          "output_type": "stream",
          "text": [
            "몬스터를 공격했습니다.\n",
            "체력이  40  만큼 소모되었습니다.\n",
            "몬스터 에너지 : 40\n",
            "게임을 조작해주세요.\n",
            "[1] 휴식 [2] 공격 [3] 종료\n",
            "> 2\n"
          ],
          "name": "stdout"
        },
        {
          "output_type": "display_data",
          "data": {
            "image/png": "[encoded data removed]",
            "text/plain": [
              "<Figure size 360x72 with 1 Axes>"
            ]
          },
          "metadata": {
            "tags": [],
            "needs_background": "light"
          }
        },
        {
          "output_type": "display_data",
          "data": {
            "image/png": "[encoded data removed]",
            "text/plain": [
              "<Figure size 360x36 with 1 Axes>"
            ]
          },
          "metadata": {
            "tags": [],
            "needs_background": "light"
          }
        },
        {
          "output_type": "stream",
          "text": [
            "몬스터를 공격했습니다.\n",
            "체력이  40  만큼 소모되었습니다.\n",
            "몬스터 에너지 : 25\n",
            "게임을 조작해주세요.\n",
            "[1] 휴식 [2] 공격 [3] 종료\n",
            "> 1\n"
          ],
          "name": "stdout"
        },
        {
          "output_type": "display_data",
          "data": {
            "image/png": "[encoded data removed]",
            "text/plain": [
              "<Figure size 360x72 with 1 Axes>"
            ]
          },
          "metadata": {
            "tags": [],
            "needs_background": "light"
          }
        },
        {
          "output_type": "stream",
          "text": [
            "41  골드를 사용해 휴식을 취했습니다.\n",
            "현재 소지금 398 골드.\n",
            "체력은 50  만큼 증가하였습니다.\n",
            "게임을 조작해주세요.\n",
            "[1] 휴식 [2] 공격 [3] 종료\n",
            "> 2\n"
          ],
          "name": "stdout"
        },
        {
          "output_type": "display_data",
          "data": {
            "image/png": "[encoded data removed]",
            "text/plain": [
              "<Figure size 360x72 with 1 Axes>"
            ]
          },
          "metadata": {
            "tags": [],
            "needs_background": "light"
          }
        },
        {
          "output_type": "display_data",
          "data": {
            "image/png": "[encoded data removed]",
            "text/plain": [
              "<Figure size 360x36 with 1 Axes>"
            ]
          },
          "metadata": {
            "tags": [],
            "needs_background": "light"
          }
        },
        {
          "output_type": "stream",
          "text": [
            "몬스터를 공격했습니다.\n",
            "체력이  40  만큼 소모되었습니다.\n",
            "몬스터 에너지 : 30\n",
            "게임을 조작해주세요.\n",
            "[1] 휴식 [2] 공격 [3] 종료\n",
            "> 2\n"
          ],
          "name": "stdout"
        },
        {
          "output_type": "display_data",
          "data": {
            "image/png": "[encoded data removed]",
            "text/plain": [
              "<Figure size 360x72 with 1 Axes>"
            ]
          },
          "metadata": {
            "tags": [],
            "needs_background": "light"
          }
        },
        {
          "output_type": "display_data",
          "data": {
            "image/png": "[encoded data removed]",
            "text/plain": [
              "<Figure size 360x36 with 1 Axes>"
            ]
          },
          "metadata": {
            "tags": [],
            "needs_background": "light"
          }
        },
        {
          "output_type": "stream",
          "text": [
            "몬스터를 공격했습니다.\n",
            "체력이  40  만큼 소모되었습니다.\n",
            "몬스터 에너지 : 15\n",
            "게임을 조작해주세요.\n",
            "[1] 휴식 [2] 공격 [3] 종료\n",
            "> 2\n"
          ],
          "name": "stdout"
        },
        {
          "output_type": "display_data",
          "data": {
            "image/png": "[encoded data removed]",
            "text/plain": [
              "<Figure size 360x72 with 1 Axes>"
            ]
          },
          "metadata": {
            "tags": [],
            "needs_background": "light"
          }
        },
        {
          "output_type": "display_data",
          "data": {
            "image/png": "[encoded data removed]",
            "text/plain": [
              "<Figure size 360x36 with 1 Axes>"
            ]
          },
          "metadata": {
            "tags": [],
            "needs_background": "light"
          }
        },
        {
          "output_type": "stream",
          "text": [
            "몬스터를 공격했습니다.\n",
            "체력이  40  만큼 소모되었습니다.\n",
            "몬스터 에너지 : 0\n",
            "\n",
            "승리하였습니다 !\n",
            "베니  은/는 기쁨과 즐거움을 얻었습니다.\n",
            "\n",
            "베니  의 저녁은 치킨입니닭\n",
            "게임을 종료합니다.\n"
          ],
          "name": "stdout"
        }
      ]
    },
    {
      "cell_type": "code",
      "metadata": {
        "id": "C8IR3Iufg835",
        "colab_type": "code",
        "colab": {}
      },
      "source": [
        ""
      ],
      "execution_count": 151,
      "outputs": []
    }
  ]
}