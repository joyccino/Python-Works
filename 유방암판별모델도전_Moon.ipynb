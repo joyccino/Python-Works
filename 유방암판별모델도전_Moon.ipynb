{
  "nbformat": 4,
  "nbformat_minor": 0,
  "metadata": {
    "colab": {
      "name": "유방암판별모델도전_Moon",
      "provenance": [],
      "collapsed_sections": [],
      "toc_visible": true
    },
    "kernelspec": {
      "name": "python3",
      "display_name": "Python 3"
    }
  },
  "cells": [
    {
      "cell_type": "markdown",
      "metadata": {
        "id": "OJZv12oWHSvH"
      },
      "source": [
        "# KNN(k-nearest neighbors algorithm) 을 사용하여<br>\n",
        "# 악성 유방암을 판별하는 모델을 생성하는 예제를 푸는데 도전해 보도록 하겠습니다.\n",
        "\n",
        "- 패턴 인식에서, k-최근접 이웃 알고리즘(또는 줄여서 k-NN)은 분류나 회귀에 사용되는 비모수 방식이라고 합니다.<br> 두 경우 모두 입력이 특징 공간 내 k개의 가장 가까운 훈련 데이터로 구성되어 있다고 합니다. (wikipedia) <br>\n",
        "- 지도학습 중에 분류 문제에 사용하는 알고리즘입니다. <br>\n",
        "분류 문제란 새로운 데이터가 들어왔을 때 기존 데이터의 그룹 중 어떤 그룹에 속하는지를 분류하는 문제를 말합니다. <br>\n",
        "- 데이터는 사이킷 런과 위스콘신 대학교에서 제공하는 유방암 데이터셋을 사용합니다.\n",
        "- 두 가지 방법을 사용해 보았는데: 첫번째는 정규화를 거치지 않은 심플한 방법, 두번째는 정규화 작업을 추가한 방식입니다. <br>\n",
        "두번째 예제 풀이를 참고한 곳: (http://hleecaster.com/ml-knn-classifier-example/) 설명이 잘 되어있어 이해가 쉬웠습니다.\n"
      ]
    },
    {
      "cell_type": "markdown",
      "metadata": {
        "id": "joAHzxQsGCIf"
      },
      "source": [
        "# KNN 을 사용한 예제 풀이 후 Decision Tree 와 Perceptron 도 사용해 실험해 보겠습니다.\n",
        "(7 Oct 2020) 예습을 위해 유방암 데이터를 이용해서 위의 두가지 분류기를 사용해 학습시켜 보기로 합니다. <br>\n"
      ]
    },
    {
      "cell_type": "markdown",
      "metadata": {
        "id": "udyEt7VxGRJf"
      },
      "source": [
        "\n",
        "#1 데이터 import 및 형태 확인하기 \n"
      ]
    },
    {
      "cell_type": "code",
      "metadata": {
        "id": "93A_EM4-GF9q",
        "outputId": "536ce7e8-ac22-4e45-a05c-588475526eb7",
        "colab": {
          "base_uri": "https://localhost:8080/",
          "height": 261
        }
      },
      "source": [
        "# coding: utf-8\n",
        "from sklearn.datasets import load_breast_cancer\n",
        "import numpy as np\n",
        "\n",
        "cancer = load_breast_cancer()\n",
        "print(\"cancer.keys : \\n{}\".format(cancer.keys()))\n",
        "# cancer.keys : \n",
        "# dict_keys(['data', 'target', 'target_names', 'DESCR', 'feature_names'])\n",
        "\n",
        "\n",
        "print(\"유방암 데이터의 형태 : {}\".format(cancer.data.shape))\n",
        "# 유방암 데이터의 형태 : (569, 30)\n",
        "# 569개 데이터 포인트(표본)를 가지고 있음. 특성은 30개\n",
        "\n",
        "print(\"클래스 별 샘플 개수 : \\n {}\".format({n: v for n, v in zip(cancer.target_names, np.bincount(cancer.target))}))\n",
        "# 클래스 별 샘플 개수 : \n",
        "#  {'malignant': 212, 'benign': 357}\n",
        "# 569개 데이터 포인트 중 212개는 악성, 357개는 양성입니다.\n",
        "\n",
        "print(\"특성 이름 : {}\\n\".format(cancer.feature_names))\n",
        "# 특성 이름 : ['mean radius' 'mean texture' 'mean perimeter' 'mean area'\n",
        "#  'mean smoothness' 'mean compactness' 'mean concavity'......\n",
        "#  'worst concave points' 'worst symmetry' 'worst fractal dimension']\n",
        "\n",
        "# 데이터에 관한 자세한 정보는 cancer.DESCR에서 확인할 수 있습니다. 각각 특성에 대한 번역은 스킵하겠습니다.\n"
      ],
      "execution_count": null,
      "outputs": [
        {
          "output_type": "stream",
          "text": [
            "cancer.keys : \n",
            "dict_keys(['data', 'target', 'target_names', 'DESCR', 'feature_names', 'filename'])\n",
            "유방암 데이터의 형태 : (569, 30)\n",
            "클래스 별 샘플 개수 : \n",
            " {'malignant': 212, 'benign': 357}\n",
            "특성 이름 : ['mean radius' 'mean texture' 'mean perimeter' 'mean area'\n",
            " 'mean smoothness' 'mean compactness' 'mean concavity'\n",
            " 'mean concave points' 'mean symmetry' 'mean fractal dimension'\n",
            " 'radius error' 'texture error' 'perimeter error' 'area error'\n",
            " 'smoothness error' 'compactness error' 'concavity error'\n",
            " 'concave points error' 'symmetry error' 'fractal dimension error'\n",
            " 'worst radius' 'worst texture' 'worst perimeter' 'worst area'\n",
            " 'worst smoothness' 'worst compactness' 'worst concavity'\n",
            " 'worst concave points' 'worst symmetry' 'worst fractal dimension']\n",
            "\n"
          ],
          "name": "stdout"
        }
      ]
    },
    {
      "cell_type": "markdown",
      "metadata": {
        "id": "N8gVps3gG636"
      },
      "source": [
        "#2 최근접 이웃 알고리즘(KNN) 구현하기\n",
        "- train/test 세트를 8:2 비율로 나누어 학습한 후 <br>\n",
        "이웃의 수에 따른 정확도를 확인할 수 있습니다."
      ]
    },
    {
      "cell_type": "code",
      "metadata": {
        "id": "936Z7Q89GjWc",
        "outputId": "e3095965-b157-488f-c263-d897592472e6",
        "colab": {
          "base_uri": "https://localhost:8080/",
          "height": 280
        }
      },
      "source": [
        " # coding: utf-8\n",
        "from sklearn.datasets import load_breast_cancer\n",
        "import numpy as np\n",
        "import matplotlib.pyplot as plt\n",
        "#import mglearn <<< 이거.. 코랩에 설치가 안되어있는지 에러가 나서 찾아보니\n",
        "#                   한 머신러닝 교과서 작가분께서 직접 만드신 라이브러리라고 합니다.\n",
        "#                   제외해도 별다른 문제가 없는것 같길래 일단은 주석처리 하겠습니당.\n",
        "\n",
        "cancer = load_breast_cancer()\n",
        "\n",
        "# 훈련/테스트 세트로 나누기\n",
        "from sklearn.model_selection import train_test_split\n",
        "X_train, X_test, y_train, y_test = train_test_split(cancer.data,cancer.target,stratify=cancer.target, random_state=66)\n",
        "\n",
        "training_accuracy = []\n",
        "test_accuracy = []\n",
        "\n",
        "# 1~10까지 이웃의 개수를 적용\n",
        "neighbors_settings = range(1,11)\n",
        "\n",
        "from sklearn.neighbors import KNeighborsClassifier #KNN을 위한 사이킷런의 머신러닝 라이브러리입니다.\n",
        "for n_neighbors in neighbors_settings:\n",
        "    # fit() 메서드는 self 객체를 반환합니다.\n",
        "    # 객체 생성과 fit 메서드를 한줄에 쓸 수 있다고 합니다.\n",
        "    # fit()을 사용하여 주어진 데이터에 우리가 원하는 함수 꼴로 Model을 fitting합니다.\n",
        "    clf = KNeighborsClassifier(n_neighbors=n_neighbors)\n",
        "    clf.fit(X_train, y_train)\n",
        "    # 훈련 세트 정확도 저장\n",
        "    training_accuracy.append(clf.score(X_train, y_train))\n",
        "    # 일반화 정확도 저장\n",
        "    test_accuracy.append(clf.score(X_test, y_test))\n",
        "\n",
        "#각 데이터셋의 정확도를 한눈에 파악이 쉽도록 그래프로 출력해봅니다.\n",
        "plt.plot(neighbors_settings, training_accuracy, label=\"train dataset accuracy\")\n",
        "plt.plot(neighbors_settings, test_accuracy, label=\"test dataset accuracy\")\n",
        "plt.ylabel(\"accuracy\")\n",
        "plt.xlabel(\"n_neighbors\")\n",
        "plt.legend()\n",
        "plt.show()\n",
        "# 이웃의 수가 늘어나면 모델은 단순해지고(덜 까다로워지므로) 훈련 데이터의 정확도는 줄어드는 양상을 보입니다.\n",
        "# 이 경우 정확도가 가장 좋을 때는 중간 정도인 6개를 사용한 경우로, 92.98% 입니다."
      ],
      "execution_count": null,
      "outputs": [
        {
          "output_type": "display_data",
          "data": {
            "image/png": "[encoded data removed]",
            "text/plain": [
              "<Figure size 432x288 with 1 Axes>"
            ]
          },
          "metadata": {
            "tags": [],
            "needs_background": "light"
          }
        }
      ]
    },
    {
      "cell_type": "markdown",
      "metadata": {
        "id": "vxarQxDSKN8z"
      },
      "source": [
        "이제 정규화(Normalisation) 작업을 추가하여 재도전 해보겠습니다. <br>\n",
        "프로세스나 정확률에 차이가 있는지도 함께 지켜봐주세여.\n",
        "\n",
        "# 0. 본격 예제 들어가기 전에 메서드나 모델에 대한 간단 설명입니다."
      ]
    },
    {
      "cell_type": "code",
      "metadata": {
        "id": "fWedW9zINN5_"
      },
      "source": [
        "from sklearn.neighbors import KNeighborsClassifier\n",
        "\n",
        "#이제 KNeighborsClassifier 모델을 생성해야 하는데, 이 때 n_neighbors로 k를 정해줘야 합니다. \n",
        "#(그리고 x 데이터를 분류를 할 때 k개의 이웃 중 \"거리가 가까운 이웃\" 의 영향을 더 많이 받도록 가중치를 설정하려면 \n",
        "#weights = \"distance\"를 지정해줄 수 있는데 여기서는 일단 생략하기로 합니다.)\n",
        "classifier = KNeighborsClassifier(n_neighbors = 3)"
      ],
      "execution_count": null,
      "outputs": []
    },
    {
      "cell_type": "code",
      "metadata": {
        "id": "bJbTHNvmM44I",
        "outputId": "ab83b094-f837-46cf-d1a3-9c77763258b1",
        "colab": {
          "base_uri": "https://localhost:8080/",
          "height": 66
        }
      },
      "source": [
        "# 그 다음 데이터를 .fit() 시켜줍니다. \n",
        "# x 데이터는 여러 개의 차원으로 이루어진 배열(점들의 집합)이 될 거고, \n",
        "# y 데이터는 레이블(각 점들의 분류 결과)가 됩니다. \n",
        "# 이 예제에서는 0 혹은 1로 분류될것입니다.\n",
        "training_points = [\n",
        "  [0.5, 0.2, 0.1],\n",
        "  [0.9, 0.7, 0.3],\n",
        "  [0.4, 0.5, 0.7]\n",
        "]\n",
        "training_labels = [0, 1, 1]\n",
        "classifier.fit(training_points, training_labels)"
      ],
      "execution_count": null,
      "outputs": [
        {
          "output_type": "execute_result",
          "data": {
            "text/plain": [
              "KNeighborsClassifier(algorithm='auto', leaf_size=30, metric='minkowski',\n",
              "                     metric_params=None, n_jobs=None, n_neighbors=3, p=2,\n",
              "                     weights='uniform')"
            ]
          },
          "metadata": {
            "tags": []
          },
          "execution_count": 18
        }
      ]
    },
    {
      "cell_type": "code",
      "metadata": {
        "id": "O9jTEyU_NQRy"
      },
      "source": [
        "#이제 만약 새로운 값들을 분류하고 싶다면 .predict()를 사용하면 됩니다.\n",
        "unknown_points = [\n",
        "  [0.2, 0.1, 0.7],\n",
        "  [0.4, 0.7, 0.6],\n",
        "  [0.5, 0.8, 0.1]\n",
        "]\n",
        "guesses = classifier.predict(unknown_points)"
      ],
      "execution_count": null,
      "outputs": []
    },
    {
      "cell_type": "markdown",
      "metadata": {
        "id": "YtVJylO9N1Ds"
      },
      "source": [
        "#1. 데이터, 라이브러리 임포트"
      ]
    },
    {
      "cell_type": "code",
      "metadata": {
        "id": "6w5RwqKmNach"
      },
      "source": [
        "from sklearn.datasets import load_breast_cancer\n",
        "breast_cancer_data = load_breast_cancer()"
      ],
      "execution_count": null,
      "outputs": []
    },
    {
      "cell_type": "code",
      "metadata": {
        "id": "LLBQ0FPDN7Y4",
        "outputId": "136c25ae-d85b-4f2f-c12d-7058ab17a676",
        "colab": {
          "base_uri": "https://localhost:8080/",
          "height": 391
        }
      },
      "source": [
        "# 데이터 확인을 pandas의 데이터 프레임으로 바꿔서 해보겠습니다.\n",
        "# .data를 찍어주면 데이터, .target을 찍어주면 레이블을 돌려줍니다.\n",
        "\n",
        "import pandas as pd\n",
        "df_data = pd.DataFrame(breast_cancer_data.data)\n",
        "df_labels = pd.DataFrame(breast_cancer_data.target)\n",
        "\n",
        "# 데이터를 찍어보면 0과 1로 분류되어있는것을 확인해 볼 수 있습니다.\n",
        "df_labels"
      ],
      "execution_count": null,
      "outputs": [
        {
          "output_type": "execute_result",
          "data": {
            "text/html": [
              "<div>\n",
              "<style scoped>\n",
              "    .dataframe tbody tr th:only-of-type {\n",
              "        vertical-align: middle;\n",
              "    }\n",
              "\n",
              "    .dataframe tbody tr th {\n",
              "        vertical-align: top;\n",
              "    }\n",
              "\n",
              "    .dataframe thead th {\n",
              "        text-align: right;\n",
              "    }\n",
              "</style>\n",
              "<table border=\"1\" class=\"dataframe\">\n",
              "  <thead>\n",
              "    <tr style=\"text-align: right;\">\n",
              "      <th></th>\n",
              "      <th>0</th>\n",
              "    </tr>\n",
              "  </thead>\n",
              "  <tbody>\n",
              "    <tr>\n",
              "      <th>0</th>\n",
              "      <td>0</td>\n",
              "    </tr>\n",
              "    <tr>\n",
              "      <th>1</th>\n",
              "      <td>0</td>\n",
              "    </tr>\n",
              "    <tr>\n",
              "      <th>2</th>\n",
              "      <td>0</td>\n",
              "    </tr>\n",
              "    <tr>\n",
              "      <th>3</th>\n",
              "      <td>0</td>\n",
              "    </tr>\n",
              "    <tr>\n",
              "      <th>4</th>\n",
              "      <td>0</td>\n",
              "    </tr>\n",
              "    <tr>\n",
              "      <th>...</th>\n",
              "      <td>...</td>\n",
              "    </tr>\n",
              "    <tr>\n",
              "      <th>564</th>\n",
              "      <td>0</td>\n",
              "    </tr>\n",
              "    <tr>\n",
              "      <th>565</th>\n",
              "      <td>0</td>\n",
              "    </tr>\n",
              "    <tr>\n",
              "      <th>566</th>\n",
              "      <td>0</td>\n",
              "    </tr>\n",
              "    <tr>\n",
              "      <th>567</th>\n",
              "      <td>0</td>\n",
              "    </tr>\n",
              "    <tr>\n",
              "      <th>568</th>\n",
              "      <td>1</td>\n",
              "    </tr>\n",
              "  </tbody>\n",
              "</table>\n",
              "<p>569 rows × 1 columns</p>\n",
              "</div>"
            ],
            "text/plain": [
              "     0\n",
              "0    0\n",
              "1    0\n",
              "2    0\n",
              "3    0\n",
              "4    0\n",
              "..  ..\n",
              "564  0\n",
              "565  0\n",
              "566  0\n",
              "567  0\n",
              "568  1\n",
              "\n",
              "[569 rows x 1 columns]"
            ]
          },
          "metadata": {
            "tags": []
          },
          "execution_count": 14
        }
      ]
    },
    {
      "cell_type": "code",
      "metadata": {
        "id": "sBSr-ZdyORI9",
        "outputId": "71be0ca2-3950-46af-83d3-890c33b092df",
        "colab": {
          "base_uri": "https://localhost:8080/",
          "height": 34
        }
      },
      "source": [
        "# 그 0과 1 이 무엇을 의미하는 걸까요? 타켓 네임을 출력해보면\n",
        "#아래와 같이 'malignant' =악성 'benign' =양성 인 것을 알 수 있습니다.\n",
        "print(breast_cancer_data.target_names)"
      ],
      "execution_count": null,
      "outputs": [
        {
          "output_type": "stream",
          "text": [
            "['malignant' 'benign']\n"
          ],
          "name": "stdout"
        }
      ]
    },
    {
      "cell_type": "code",
      "metadata": {
        "id": "fxVDdpLGOknU",
        "outputId": "991396ba-d431-4aba-af00-26588440a0bb",
        "colab": {
          "base_uri": "https://localhost:8080/",
          "height": 224
        }
      },
      "source": [
        "# 그러나 df.data에서 문제를 발견하게 됩니다.\n",
        "\n",
        "df_data.head()\n",
        "\n",
        "# 이름이나 칼럼같은것도 없이 그냥 30개 항목에 대한 값만 쭉 들어 있습니다.\n",
        "# 그런데 값이 어떤 건 엄청 큰 거 같고(3번칼럼의 4번 로우는 1297.0로 매우 큼) 어떤 건 1이 채 안되는 것 같습니다..."
      ],
      "execution_count": null,
      "outputs": [
        {
          "output_type": "execute_result",
          "data": {
            "text/html": [
              "<div>\n",
              "<style scoped>\n",
              "    .dataframe tbody tr th:only-of-type {\n",
              "        vertical-align: middle;\n",
              "    }\n",
              "\n",
              "    .dataframe tbody tr th {\n",
              "        vertical-align: top;\n",
              "    }\n",
              "\n",
              "    .dataframe thead th {\n",
              "        text-align: right;\n",
              "    }\n",
              "</style>\n",
              "<table border=\"1\" class=\"dataframe\">\n",
              "  <thead>\n",
              "    <tr style=\"text-align: right;\">\n",
              "      <th></th>\n",
              "      <th>0</th>\n",
              "      <th>1</th>\n",
              "      <th>2</th>\n",
              "      <th>3</th>\n",
              "      <th>4</th>\n",
              "      <th>5</th>\n",
              "      <th>6</th>\n",
              "      <th>7</th>\n",
              "      <th>8</th>\n",
              "      <th>9</th>\n",
              "      <th>10</th>\n",
              "      <th>11</th>\n",
              "      <th>12</th>\n",
              "      <th>13</th>\n",
              "      <th>14</th>\n",
              "      <th>15</th>\n",
              "      <th>16</th>\n",
              "      <th>17</th>\n",
              "      <th>18</th>\n",
              "      <th>19</th>\n",
              "      <th>20</th>\n",
              "      <th>21</th>\n",
              "      <th>22</th>\n",
              "      <th>23</th>\n",
              "      <th>24</th>\n",
              "      <th>25</th>\n",
              "      <th>26</th>\n",
              "      <th>27</th>\n",
              "      <th>28</th>\n",
              "      <th>29</th>\n",
              "    </tr>\n",
              "  </thead>\n",
              "  <tbody>\n",
              "    <tr>\n",
              "      <th>0</th>\n",
              "      <td>17.99</td>\n",
              "      <td>10.38</td>\n",
              "      <td>122.80</td>\n",
              "      <td>1001.0</td>\n",
              "      <td>0.11840</td>\n",
              "      <td>0.27760</td>\n",
              "      <td>0.3001</td>\n",
              "      <td>0.14710</td>\n",
              "      <td>0.2419</td>\n",
              "      <td>0.07871</td>\n",
              "      <td>1.0950</td>\n",
              "      <td>0.9053</td>\n",
              "      <td>8.589</td>\n",
              "      <td>153.40</td>\n",
              "      <td>0.006399</td>\n",
              "      <td>0.04904</td>\n",
              "      <td>0.05373</td>\n",
              "      <td>0.01587</td>\n",
              "      <td>0.03003</td>\n",
              "      <td>0.006193</td>\n",
              "      <td>25.38</td>\n",
              "      <td>17.33</td>\n",
              "      <td>184.60</td>\n",
              "      <td>2019.0</td>\n",
              "      <td>0.1622</td>\n",
              "      <td>0.6656</td>\n",
              "      <td>0.7119</td>\n",
              "      <td>0.2654</td>\n",
              "      <td>0.4601</td>\n",
              "      <td>0.11890</td>\n",
              "    </tr>\n",
              "    <tr>\n",
              "      <th>1</th>\n",
              "      <td>20.57</td>\n",
              "      <td>17.77</td>\n",
              "      <td>132.90</td>\n",
              "      <td>1326.0</td>\n",
              "      <td>0.08474</td>\n",
              "      <td>0.07864</td>\n",
              "      <td>0.0869</td>\n",
              "      <td>0.07017</td>\n",
              "      <td>0.1812</td>\n",
              "      <td>0.05667</td>\n",
              "      <td>0.5435</td>\n",
              "      <td>0.7339</td>\n",
              "      <td>3.398</td>\n",
              "      <td>74.08</td>\n",
              "      <td>0.005225</td>\n",
              "      <td>0.01308</td>\n",
              "      <td>0.01860</td>\n",
              "      <td>0.01340</td>\n",
              "      <td>0.01389</td>\n",
              "      <td>0.003532</td>\n",
              "      <td>24.99</td>\n",
              "      <td>23.41</td>\n",
              "      <td>158.80</td>\n",
              "      <td>1956.0</td>\n",
              "      <td>0.1238</td>\n",
              "      <td>0.1866</td>\n",
              "      <td>0.2416</td>\n",
              "      <td>0.1860</td>\n",
              "      <td>0.2750</td>\n",
              "      <td>0.08902</td>\n",
              "    </tr>\n",
              "    <tr>\n",
              "      <th>2</th>\n",
              "      <td>19.69</td>\n",
              "      <td>21.25</td>\n",
              "      <td>130.00</td>\n",
              "      <td>1203.0</td>\n",
              "      <td>0.10960</td>\n",
              "      <td>0.15990</td>\n",
              "      <td>0.1974</td>\n",
              "      <td>0.12790</td>\n",
              "      <td>0.2069</td>\n",
              "      <td>0.05999</td>\n",
              "      <td>0.7456</td>\n",
              "      <td>0.7869</td>\n",
              "      <td>4.585</td>\n",
              "      <td>94.03</td>\n",
              "      <td>0.006150</td>\n",
              "      <td>0.04006</td>\n",
              "      <td>0.03832</td>\n",
              "      <td>0.02058</td>\n",
              "      <td>0.02250</td>\n",
              "      <td>0.004571</td>\n",
              "      <td>23.57</td>\n",
              "      <td>25.53</td>\n",
              "      <td>152.50</td>\n",
              "      <td>1709.0</td>\n",
              "      <td>0.1444</td>\n",
              "      <td>0.4245</td>\n",
              "      <td>0.4504</td>\n",
              "      <td>0.2430</td>\n",
              "      <td>0.3613</td>\n",
              "      <td>0.08758</td>\n",
              "    </tr>\n",
              "    <tr>\n",
              "      <th>3</th>\n",
              "      <td>11.42</td>\n",
              "      <td>20.38</td>\n",
              "      <td>77.58</td>\n",
              "      <td>386.1</td>\n",
              "      <td>0.14250</td>\n",
              "      <td>0.28390</td>\n",
              "      <td>0.2414</td>\n",
              "      <td>0.10520</td>\n",
              "      <td>0.2597</td>\n",
              "      <td>0.09744</td>\n",
              "      <td>0.4956</td>\n",
              "      <td>1.1560</td>\n",
              "      <td>3.445</td>\n",
              "      <td>27.23</td>\n",
              "      <td>0.009110</td>\n",
              "      <td>0.07458</td>\n",
              "      <td>0.05661</td>\n",
              "      <td>0.01867</td>\n",
              "      <td>0.05963</td>\n",
              "      <td>0.009208</td>\n",
              "      <td>14.91</td>\n",
              "      <td>26.50</td>\n",
              "      <td>98.87</td>\n",
              "      <td>567.7</td>\n",
              "      <td>0.2098</td>\n",
              "      <td>0.8663</td>\n",
              "      <td>0.6869</td>\n",
              "      <td>0.2575</td>\n",
              "      <td>0.6638</td>\n",
              "      <td>0.17300</td>\n",
              "    </tr>\n",
              "    <tr>\n",
              "      <th>4</th>\n",
              "      <td>20.29</td>\n",
              "      <td>14.34</td>\n",
              "      <td>135.10</td>\n",
              "      <td>1297.0</td>\n",
              "      <td>0.10030</td>\n",
              "      <td>0.13280</td>\n",
              "      <td>0.1980</td>\n",
              "      <td>0.10430</td>\n",
              "      <td>0.1809</td>\n",
              "      <td>0.05883</td>\n",
              "      <td>0.7572</td>\n",
              "      <td>0.7813</td>\n",
              "      <td>5.438</td>\n",
              "      <td>94.44</td>\n",
              "      <td>0.011490</td>\n",
              "      <td>0.02461</td>\n",
              "      <td>0.05688</td>\n",
              "      <td>0.01885</td>\n",
              "      <td>0.01756</td>\n",
              "      <td>0.005115</td>\n",
              "      <td>22.54</td>\n",
              "      <td>16.67</td>\n",
              "      <td>152.20</td>\n",
              "      <td>1575.0</td>\n",
              "      <td>0.1374</td>\n",
              "      <td>0.2050</td>\n",
              "      <td>0.4000</td>\n",
              "      <td>0.1625</td>\n",
              "      <td>0.2364</td>\n",
              "      <td>0.07678</td>\n",
              "    </tr>\n",
              "  </tbody>\n",
              "</table>\n",
              "</div>"
            ],
            "text/plain": [
              "      0      1       2       3   ...      26      27      28       29\n",
              "0  17.99  10.38  122.80  1001.0  ...  0.7119  0.2654  0.4601  0.11890\n",
              "1  20.57  17.77  132.90  1326.0  ...  0.2416  0.1860  0.2750  0.08902\n",
              "2  19.69  21.25  130.00  1203.0  ...  0.4504  0.2430  0.3613  0.08758\n",
              "3  11.42  20.38   77.58   386.1  ...  0.6869  0.2575  0.6638  0.17300\n",
              "4  20.29  14.34  135.10  1297.0  ...  0.4000  0.1625  0.2364  0.07678\n",
              "\n",
              "[5 rows x 30 columns]"
            ]
          },
          "metadata": {
            "tags": []
          },
          "execution_count": 41
        }
      ]
    },
    {
      "cell_type": "code",
      "metadata": {
        "id": "Cl6X5IuxOI0M",
        "outputId": "c661ed03-12c3-4c6a-b4ff-302f193d6495",
        "colab": {
          "base_uri": "https://localhost:8080/",
          "height": 317
        }
      },
      "source": [
        "# 각 항목별로 최대/최소값을 비롯한 기초 통계량을 확인하기 위해 .describe()를 찍어봅니다.\n",
        "\n",
        "df_data.describe()"
      ],
      "execution_count": null,
      "outputs": [
        {
          "output_type": "execute_result",
          "data": {
            "text/html": [
              "<div>\n",
              "<style scoped>\n",
              "    .dataframe tbody tr th:only-of-type {\n",
              "        vertical-align: middle;\n",
              "    }\n",
              "\n",
              "    .dataframe tbody tr th {\n",
              "        vertical-align: top;\n",
              "    }\n",
              "\n",
              "    .dataframe thead th {\n",
              "        text-align: right;\n",
              "    }\n",
              "</style>\n",
              "<table border=\"1\" class=\"dataframe\">\n",
              "  <thead>\n",
              "    <tr style=\"text-align: right;\">\n",
              "      <th></th>\n",
              "      <th>0</th>\n",
              "      <th>1</th>\n",
              "      <th>2</th>\n",
              "      <th>3</th>\n",
              "      <th>4</th>\n",
              "      <th>5</th>\n",
              "      <th>6</th>\n",
              "      <th>7</th>\n",
              "      <th>8</th>\n",
              "      <th>9</th>\n",
              "      <th>10</th>\n",
              "      <th>11</th>\n",
              "      <th>12</th>\n",
              "      <th>13</th>\n",
              "      <th>14</th>\n",
              "      <th>15</th>\n",
              "      <th>16</th>\n",
              "      <th>17</th>\n",
              "      <th>18</th>\n",
              "      <th>19</th>\n",
              "      <th>20</th>\n",
              "      <th>21</th>\n",
              "      <th>22</th>\n",
              "      <th>23</th>\n",
              "      <th>24</th>\n",
              "      <th>25</th>\n",
              "      <th>26</th>\n",
              "      <th>27</th>\n",
              "      <th>28</th>\n",
              "      <th>29</th>\n",
              "    </tr>\n",
              "  </thead>\n",
              "  <tbody>\n",
              "    <tr>\n",
              "      <th>count</th>\n",
              "      <td>569.000000</td>\n",
              "      <td>569.000000</td>\n",
              "      <td>569.000000</td>\n",
              "      <td>569.000000</td>\n",
              "      <td>569.000000</td>\n",
              "      <td>569.000000</td>\n",
              "      <td>569.000000</td>\n",
              "      <td>569.000000</td>\n",
              "      <td>569.000000</td>\n",
              "      <td>569.000000</td>\n",
              "      <td>569.000000</td>\n",
              "      <td>569.000000</td>\n",
              "      <td>569.000000</td>\n",
              "      <td>569.000000</td>\n",
              "      <td>569.000000</td>\n",
              "      <td>569.000000</td>\n",
              "      <td>569.000000</td>\n",
              "      <td>569.000000</td>\n",
              "      <td>569.000000</td>\n",
              "      <td>569.000000</td>\n",
              "      <td>569.000000</td>\n",
              "      <td>569.000000</td>\n",
              "      <td>569.000000</td>\n",
              "      <td>569.000000</td>\n",
              "      <td>569.000000</td>\n",
              "      <td>569.000000</td>\n",
              "      <td>569.000000</td>\n",
              "      <td>569.000000</td>\n",
              "      <td>569.000000</td>\n",
              "      <td>569.000000</td>\n",
              "    </tr>\n",
              "    <tr>\n",
              "      <th>mean</th>\n",
              "      <td>14.127292</td>\n",
              "      <td>19.289649</td>\n",
              "      <td>91.969033</td>\n",
              "      <td>654.889104</td>\n",
              "      <td>0.096360</td>\n",
              "      <td>0.104341</td>\n",
              "      <td>0.088799</td>\n",
              "      <td>0.048919</td>\n",
              "      <td>0.181162</td>\n",
              "      <td>0.062798</td>\n",
              "      <td>0.405172</td>\n",
              "      <td>1.216853</td>\n",
              "      <td>2.866059</td>\n",
              "      <td>40.337079</td>\n",
              "      <td>0.007041</td>\n",
              "      <td>0.025478</td>\n",
              "      <td>0.031894</td>\n",
              "      <td>0.011796</td>\n",
              "      <td>0.020542</td>\n",
              "      <td>0.003795</td>\n",
              "      <td>16.269190</td>\n",
              "      <td>25.677223</td>\n",
              "      <td>107.261213</td>\n",
              "      <td>880.583128</td>\n",
              "      <td>0.132369</td>\n",
              "      <td>0.254265</td>\n",
              "      <td>0.272188</td>\n",
              "      <td>0.114606</td>\n",
              "      <td>0.290076</td>\n",
              "      <td>0.083946</td>\n",
              "    </tr>\n",
              "    <tr>\n",
              "      <th>std</th>\n",
              "      <td>3.524049</td>\n",
              "      <td>4.301036</td>\n",
              "      <td>24.298981</td>\n",
              "      <td>351.914129</td>\n",
              "      <td>0.014064</td>\n",
              "      <td>0.052813</td>\n",
              "      <td>0.079720</td>\n",
              "      <td>0.038803</td>\n",
              "      <td>0.027414</td>\n",
              "      <td>0.007060</td>\n",
              "      <td>0.277313</td>\n",
              "      <td>0.551648</td>\n",
              "      <td>2.021855</td>\n",
              "      <td>45.491006</td>\n",
              "      <td>0.003003</td>\n",
              "      <td>0.017908</td>\n",
              "      <td>0.030186</td>\n",
              "      <td>0.006170</td>\n",
              "      <td>0.008266</td>\n",
              "      <td>0.002646</td>\n",
              "      <td>4.833242</td>\n",
              "      <td>6.146258</td>\n",
              "      <td>33.602542</td>\n",
              "      <td>569.356993</td>\n",
              "      <td>0.022832</td>\n",
              "      <td>0.157336</td>\n",
              "      <td>0.208624</td>\n",
              "      <td>0.065732</td>\n",
              "      <td>0.061867</td>\n",
              "      <td>0.018061</td>\n",
              "    </tr>\n",
              "    <tr>\n",
              "      <th>min</th>\n",
              "      <td>6.981000</td>\n",
              "      <td>9.710000</td>\n",
              "      <td>43.790000</td>\n",
              "      <td>143.500000</td>\n",
              "      <td>0.052630</td>\n",
              "      <td>0.019380</td>\n",
              "      <td>0.000000</td>\n",
              "      <td>0.000000</td>\n",
              "      <td>0.106000</td>\n",
              "      <td>0.049960</td>\n",
              "      <td>0.111500</td>\n",
              "      <td>0.360200</td>\n",
              "      <td>0.757000</td>\n",
              "      <td>6.802000</td>\n",
              "      <td>0.001713</td>\n",
              "      <td>0.002252</td>\n",
              "      <td>0.000000</td>\n",
              "      <td>0.000000</td>\n",
              "      <td>0.007882</td>\n",
              "      <td>0.000895</td>\n",
              "      <td>7.930000</td>\n",
              "      <td>12.020000</td>\n",
              "      <td>50.410000</td>\n",
              "      <td>185.200000</td>\n",
              "      <td>0.071170</td>\n",
              "      <td>0.027290</td>\n",
              "      <td>0.000000</td>\n",
              "      <td>0.000000</td>\n",
              "      <td>0.156500</td>\n",
              "      <td>0.055040</td>\n",
              "    </tr>\n",
              "    <tr>\n",
              "      <th>25%</th>\n",
              "      <td>11.700000</td>\n",
              "      <td>16.170000</td>\n",
              "      <td>75.170000</td>\n",
              "      <td>420.300000</td>\n",
              "      <td>0.086370</td>\n",
              "      <td>0.064920</td>\n",
              "      <td>0.029560</td>\n",
              "      <td>0.020310</td>\n",
              "      <td>0.161900</td>\n",
              "      <td>0.057700</td>\n",
              "      <td>0.232400</td>\n",
              "      <td>0.833900</td>\n",
              "      <td>1.606000</td>\n",
              "      <td>17.850000</td>\n",
              "      <td>0.005169</td>\n",
              "      <td>0.013080</td>\n",
              "      <td>0.015090</td>\n",
              "      <td>0.007638</td>\n",
              "      <td>0.015160</td>\n",
              "      <td>0.002248</td>\n",
              "      <td>13.010000</td>\n",
              "      <td>21.080000</td>\n",
              "      <td>84.110000</td>\n",
              "      <td>515.300000</td>\n",
              "      <td>0.116600</td>\n",
              "      <td>0.147200</td>\n",
              "      <td>0.114500</td>\n",
              "      <td>0.064930</td>\n",
              "      <td>0.250400</td>\n",
              "      <td>0.071460</td>\n",
              "    </tr>\n",
              "    <tr>\n",
              "      <th>50%</th>\n",
              "      <td>13.370000</td>\n",
              "      <td>18.840000</td>\n",
              "      <td>86.240000</td>\n",
              "      <td>551.100000</td>\n",
              "      <td>0.095870</td>\n",
              "      <td>0.092630</td>\n",
              "      <td>0.061540</td>\n",
              "      <td>0.033500</td>\n",
              "      <td>0.179200</td>\n",
              "      <td>0.061540</td>\n",
              "      <td>0.324200</td>\n",
              "      <td>1.108000</td>\n",
              "      <td>2.287000</td>\n",
              "      <td>24.530000</td>\n",
              "      <td>0.006380</td>\n",
              "      <td>0.020450</td>\n",
              "      <td>0.025890</td>\n",
              "      <td>0.010930</td>\n",
              "      <td>0.018730</td>\n",
              "      <td>0.003187</td>\n",
              "      <td>14.970000</td>\n",
              "      <td>25.410000</td>\n",
              "      <td>97.660000</td>\n",
              "      <td>686.500000</td>\n",
              "      <td>0.131300</td>\n",
              "      <td>0.211900</td>\n",
              "      <td>0.226700</td>\n",
              "      <td>0.099930</td>\n",
              "      <td>0.282200</td>\n",
              "      <td>0.080040</td>\n",
              "    </tr>\n",
              "    <tr>\n",
              "      <th>75%</th>\n",
              "      <td>15.780000</td>\n",
              "      <td>21.800000</td>\n",
              "      <td>104.100000</td>\n",
              "      <td>782.700000</td>\n",
              "      <td>0.105300</td>\n",
              "      <td>0.130400</td>\n",
              "      <td>0.130700</td>\n",
              "      <td>0.074000</td>\n",
              "      <td>0.195700</td>\n",
              "      <td>0.066120</td>\n",
              "      <td>0.478900</td>\n",
              "      <td>1.474000</td>\n",
              "      <td>3.357000</td>\n",
              "      <td>45.190000</td>\n",
              "      <td>0.008146</td>\n",
              "      <td>0.032450</td>\n",
              "      <td>0.042050</td>\n",
              "      <td>0.014710</td>\n",
              "      <td>0.023480</td>\n",
              "      <td>0.004558</td>\n",
              "      <td>18.790000</td>\n",
              "      <td>29.720000</td>\n",
              "      <td>125.400000</td>\n",
              "      <td>1084.000000</td>\n",
              "      <td>0.146000</td>\n",
              "      <td>0.339100</td>\n",
              "      <td>0.382900</td>\n",
              "      <td>0.161400</td>\n",
              "      <td>0.317900</td>\n",
              "      <td>0.092080</td>\n",
              "    </tr>\n",
              "    <tr>\n",
              "      <th>max</th>\n",
              "      <td>28.110000</td>\n",
              "      <td>39.280000</td>\n",
              "      <td>188.500000</td>\n",
              "      <td>2501.000000</td>\n",
              "      <td>0.163400</td>\n",
              "      <td>0.345400</td>\n",
              "      <td>0.426800</td>\n",
              "      <td>0.201200</td>\n",
              "      <td>0.304000</td>\n",
              "      <td>0.097440</td>\n",
              "      <td>2.873000</td>\n",
              "      <td>4.885000</td>\n",
              "      <td>21.980000</td>\n",
              "      <td>542.200000</td>\n",
              "      <td>0.031130</td>\n",
              "      <td>0.135400</td>\n",
              "      <td>0.396000</td>\n",
              "      <td>0.052790</td>\n",
              "      <td>0.078950</td>\n",
              "      <td>0.029840</td>\n",
              "      <td>36.040000</td>\n",
              "      <td>49.540000</td>\n",
              "      <td>251.200000</td>\n",
              "      <td>4254.000000</td>\n",
              "      <td>0.222600</td>\n",
              "      <td>1.058000</td>\n",
              "      <td>1.252000</td>\n",
              "      <td>0.291000</td>\n",
              "      <td>0.663800</td>\n",
              "      <td>0.207500</td>\n",
              "    </tr>\n",
              "  </tbody>\n",
              "</table>\n",
              "</div>"
            ],
            "text/plain": [
              "               0           1           2   ...          27          28          29\n",
              "count  569.000000  569.000000  569.000000  ...  569.000000  569.000000  569.000000\n",
              "mean    14.127292   19.289649   91.969033  ...    0.114606    0.290076    0.083946\n",
              "std      3.524049    4.301036   24.298981  ...    0.065732    0.061867    0.018061\n",
              "min      6.981000    9.710000   43.790000  ...    0.000000    0.156500    0.055040\n",
              "25%     11.700000   16.170000   75.170000  ...    0.064930    0.250400    0.071460\n",
              "50%     13.370000   18.840000   86.240000  ...    0.099930    0.282200    0.080040\n",
              "75%     15.780000   21.800000  104.100000  ...    0.161400    0.317900    0.092080\n",
              "max     28.110000   39.280000  188.500000  ...    0.291000    0.663800    0.207500\n",
              "\n",
              "[8 rows x 30 columns]"
            ]
          },
          "metadata": {
            "tags": []
          },
          "execution_count": 42
        }
      ]
    },
    {
      "cell_type": "markdown",
      "metadata": {
        "id": "0hMbT4vuyn1F"
      },
      "source": [
        "역시. 최댓값 최솟값의 편차가 몹시 심합니다.\n",
        "<br>항목마다 스케일이 너무나 다른데 그걸 무시한 채 동일한 정도로 학습에 반영하면 안 될 것 같습니다. \n",
        "<br>이때 사용하는 것이 정규화(Normalisation)라고 합니다."
      ]
    },
    {
      "cell_type": "code",
      "metadata": {
        "id": "WvWY9pBPPfdT"
      },
      "source": [
        "# 본 예제에서는 최소-최대 정규화 함수를 작성한 후\n",
        "\n",
        "def min_max_normalize(lst):\n",
        "    normalized = []\n",
        "    \n",
        "    for value in lst:\n",
        "        normalized_num = (value - min(lst)) / (max(lst) - min(lst))\n",
        "        normalized.append(normalized_num)\n",
        "    \n",
        "    return normalized"
      ],
      "execution_count": null,
      "outputs": []
    },
    {
      "cell_type": "code",
      "metadata": {
        "id": "Xzwm3aeFPlK0",
        "outputId": "2d795cb4-07b9-49c4-c34c-a60498e3dcf6",
        "colab": {
          "base_uri": "https://localhost:8080/",
          "height": 317
        }
      },
      "source": [
        "# df_data에 적용해 봅니다.\n",
        "for x in range(len(df_data.columns)):\n",
        "    df_data[x] = min_max_normalize(df_data[x])\n",
        "df_data.describe()\n",
        "# 모든 항목이 최소값은 0, 최대값은 1로 변환된 걸 확인할 수 있습니다."
      ],
      "execution_count": null,
      "outputs": [
        {
          "output_type": "execute_result",
          "data": {
            "text/html": [
              "<div>\n",
              "<style scoped>\n",
              "    .dataframe tbody tr th:only-of-type {\n",
              "        vertical-align: middle;\n",
              "    }\n",
              "\n",
              "    .dataframe tbody tr th {\n",
              "        vertical-align: top;\n",
              "    }\n",
              "\n",
              "    .dataframe thead th {\n",
              "        text-align: right;\n",
              "    }\n",
              "</style>\n",
              "<table border=\"1\" class=\"dataframe\">\n",
              "  <thead>\n",
              "    <tr style=\"text-align: right;\">\n",
              "      <th></th>\n",
              "      <th>0</th>\n",
              "      <th>1</th>\n",
              "      <th>2</th>\n",
              "      <th>3</th>\n",
              "      <th>4</th>\n",
              "      <th>5</th>\n",
              "      <th>6</th>\n",
              "      <th>7</th>\n",
              "      <th>8</th>\n",
              "      <th>9</th>\n",
              "      <th>10</th>\n",
              "      <th>11</th>\n",
              "      <th>12</th>\n",
              "      <th>13</th>\n",
              "      <th>14</th>\n",
              "      <th>15</th>\n",
              "      <th>16</th>\n",
              "      <th>17</th>\n",
              "      <th>18</th>\n",
              "      <th>19</th>\n",
              "      <th>20</th>\n",
              "      <th>21</th>\n",
              "      <th>22</th>\n",
              "      <th>23</th>\n",
              "      <th>24</th>\n",
              "      <th>25</th>\n",
              "      <th>26</th>\n",
              "      <th>27</th>\n",
              "      <th>28</th>\n",
              "      <th>29</th>\n",
              "    </tr>\n",
              "  </thead>\n",
              "  <tbody>\n",
              "    <tr>\n",
              "      <th>count</th>\n",
              "      <td>569.000000</td>\n",
              "      <td>569.000000</td>\n",
              "      <td>569.000000</td>\n",
              "      <td>569.000000</td>\n",
              "      <td>569.000000</td>\n",
              "      <td>569.000000</td>\n",
              "      <td>569.000000</td>\n",
              "      <td>569.000000</td>\n",
              "      <td>569.000000</td>\n",
              "      <td>569.000000</td>\n",
              "      <td>569.000000</td>\n",
              "      <td>569.000000</td>\n",
              "      <td>569.000000</td>\n",
              "      <td>569.000000</td>\n",
              "      <td>569.000000</td>\n",
              "      <td>569.000000</td>\n",
              "      <td>569.000000</td>\n",
              "      <td>569.000000</td>\n",
              "      <td>569.000000</td>\n",
              "      <td>569.000000</td>\n",
              "      <td>569.000000</td>\n",
              "      <td>569.000000</td>\n",
              "      <td>569.000000</td>\n",
              "      <td>569.000000</td>\n",
              "      <td>569.000000</td>\n",
              "      <td>569.000000</td>\n",
              "      <td>569.000000</td>\n",
              "      <td>569.000000</td>\n",
              "      <td>569.000000</td>\n",
              "      <td>569.000000</td>\n",
              "    </tr>\n",
              "    <tr>\n",
              "      <th>mean</th>\n",
              "      <td>0.338222</td>\n",
              "      <td>0.323965</td>\n",
              "      <td>0.332935</td>\n",
              "      <td>0.216920</td>\n",
              "      <td>0.394785</td>\n",
              "      <td>0.260601</td>\n",
              "      <td>0.208058</td>\n",
              "      <td>0.243137</td>\n",
              "      <td>0.379605</td>\n",
              "      <td>0.270379</td>\n",
              "      <td>0.106345</td>\n",
              "      <td>0.189324</td>\n",
              "      <td>0.099376</td>\n",
              "      <td>0.062636</td>\n",
              "      <td>0.181119</td>\n",
              "      <td>0.174439</td>\n",
              "      <td>0.080540</td>\n",
              "      <td>0.223454</td>\n",
              "      <td>0.178143</td>\n",
              "      <td>0.100193</td>\n",
              "      <td>0.296663</td>\n",
              "      <td>0.363998</td>\n",
              "      <td>0.283138</td>\n",
              "      <td>0.170906</td>\n",
              "      <td>0.404138</td>\n",
              "      <td>0.220212</td>\n",
              "      <td>0.217403</td>\n",
              "      <td>0.393836</td>\n",
              "      <td>0.263307</td>\n",
              "      <td>0.189596</td>\n",
              "    </tr>\n",
              "    <tr>\n",
              "      <th>std</th>\n",
              "      <td>0.166787</td>\n",
              "      <td>0.145453</td>\n",
              "      <td>0.167915</td>\n",
              "      <td>0.149274</td>\n",
              "      <td>0.126967</td>\n",
              "      <td>0.161992</td>\n",
              "      <td>0.186785</td>\n",
              "      <td>0.192857</td>\n",
              "      <td>0.138456</td>\n",
              "      <td>0.148702</td>\n",
              "      <td>0.100421</td>\n",
              "      <td>0.121917</td>\n",
              "      <td>0.095267</td>\n",
              "      <td>0.084967</td>\n",
              "      <td>0.102067</td>\n",
              "      <td>0.134498</td>\n",
              "      <td>0.076227</td>\n",
              "      <td>0.116884</td>\n",
              "      <td>0.116316</td>\n",
              "      <td>0.091417</td>\n",
              "      <td>0.171940</td>\n",
              "      <td>0.163813</td>\n",
              "      <td>0.167352</td>\n",
              "      <td>0.139932</td>\n",
              "      <td>0.150779</td>\n",
              "      <td>0.152649</td>\n",
              "      <td>0.166633</td>\n",
              "      <td>0.225884</td>\n",
              "      <td>0.121954</td>\n",
              "      <td>0.118466</td>\n",
              "    </tr>\n",
              "    <tr>\n",
              "      <th>min</th>\n",
              "      <td>0.000000</td>\n",
              "      <td>0.000000</td>\n",
              "      <td>0.000000</td>\n",
              "      <td>0.000000</td>\n",
              "      <td>0.000000</td>\n",
              "      <td>0.000000</td>\n",
              "      <td>0.000000</td>\n",
              "      <td>0.000000</td>\n",
              "      <td>0.000000</td>\n",
              "      <td>0.000000</td>\n",
              "      <td>0.000000</td>\n",
              "      <td>0.000000</td>\n",
              "      <td>0.000000</td>\n",
              "      <td>0.000000</td>\n",
              "      <td>0.000000</td>\n",
              "      <td>0.000000</td>\n",
              "      <td>0.000000</td>\n",
              "      <td>0.000000</td>\n",
              "      <td>0.000000</td>\n",
              "      <td>0.000000</td>\n",
              "      <td>0.000000</td>\n",
              "      <td>0.000000</td>\n",
              "      <td>0.000000</td>\n",
              "      <td>0.000000</td>\n",
              "      <td>0.000000</td>\n",
              "      <td>0.000000</td>\n",
              "      <td>0.000000</td>\n",
              "      <td>0.000000</td>\n",
              "      <td>0.000000</td>\n",
              "      <td>0.000000</td>\n",
              "    </tr>\n",
              "    <tr>\n",
              "      <th>25%</th>\n",
              "      <td>0.223342</td>\n",
              "      <td>0.218465</td>\n",
              "      <td>0.216847</td>\n",
              "      <td>0.117413</td>\n",
              "      <td>0.304595</td>\n",
              "      <td>0.139685</td>\n",
              "      <td>0.069260</td>\n",
              "      <td>0.100944</td>\n",
              "      <td>0.282323</td>\n",
              "      <td>0.163016</td>\n",
              "      <td>0.043781</td>\n",
              "      <td>0.104690</td>\n",
              "      <td>0.040004</td>\n",
              "      <td>0.020635</td>\n",
              "      <td>0.117483</td>\n",
              "      <td>0.081323</td>\n",
              "      <td>0.038106</td>\n",
              "      <td>0.144686</td>\n",
              "      <td>0.102409</td>\n",
              "      <td>0.046750</td>\n",
              "      <td>0.180719</td>\n",
              "      <td>0.241471</td>\n",
              "      <td>0.167837</td>\n",
              "      <td>0.081130</td>\n",
              "      <td>0.300007</td>\n",
              "      <td>0.116337</td>\n",
              "      <td>0.091454</td>\n",
              "      <td>0.223127</td>\n",
              "      <td>0.185098</td>\n",
              "      <td>0.107700</td>\n",
              "    </tr>\n",
              "    <tr>\n",
              "      <th>50%</th>\n",
              "      <td>0.302381</td>\n",
              "      <td>0.308759</td>\n",
              "      <td>0.293345</td>\n",
              "      <td>0.172895</td>\n",
              "      <td>0.390358</td>\n",
              "      <td>0.224679</td>\n",
              "      <td>0.144189</td>\n",
              "      <td>0.166501</td>\n",
              "      <td>0.369697</td>\n",
              "      <td>0.243892</td>\n",
              "      <td>0.077023</td>\n",
              "      <td>0.165267</td>\n",
              "      <td>0.072092</td>\n",
              "      <td>0.033112</td>\n",
              "      <td>0.158650</td>\n",
              "      <td>0.136675</td>\n",
              "      <td>0.065379</td>\n",
              "      <td>0.207047</td>\n",
              "      <td>0.152643</td>\n",
              "      <td>0.079191</td>\n",
              "      <td>0.250445</td>\n",
              "      <td>0.356876</td>\n",
              "      <td>0.235320</td>\n",
              "      <td>0.123206</td>\n",
              "      <td>0.397081</td>\n",
              "      <td>0.179110</td>\n",
              "      <td>0.181070</td>\n",
              "      <td>0.343402</td>\n",
              "      <td>0.247782</td>\n",
              "      <td>0.163977</td>\n",
              "    </tr>\n",
              "    <tr>\n",
              "      <th>75%</th>\n",
              "      <td>0.416442</td>\n",
              "      <td>0.408860</td>\n",
              "      <td>0.416765</td>\n",
              "      <td>0.271135</td>\n",
              "      <td>0.475490</td>\n",
              "      <td>0.340531</td>\n",
              "      <td>0.306232</td>\n",
              "      <td>0.367793</td>\n",
              "      <td>0.453030</td>\n",
              "      <td>0.340354</td>\n",
              "      <td>0.133044</td>\n",
              "      <td>0.246155</td>\n",
              "      <td>0.122509</td>\n",
              "      <td>0.071700</td>\n",
              "      <td>0.218683</td>\n",
              "      <td>0.226800</td>\n",
              "      <td>0.106187</td>\n",
              "      <td>0.278651</td>\n",
              "      <td>0.219480</td>\n",
              "      <td>0.126556</td>\n",
              "      <td>0.386339</td>\n",
              "      <td>0.471748</td>\n",
              "      <td>0.373475</td>\n",
              "      <td>0.220901</td>\n",
              "      <td>0.494156</td>\n",
              "      <td>0.302520</td>\n",
              "      <td>0.305831</td>\n",
              "      <td>0.554639</td>\n",
              "      <td>0.318155</td>\n",
              "      <td>0.242949</td>\n",
              "    </tr>\n",
              "    <tr>\n",
              "      <th>max</th>\n",
              "      <td>1.000000</td>\n",
              "      <td>1.000000</td>\n",
              "      <td>1.000000</td>\n",
              "      <td>1.000000</td>\n",
              "      <td>1.000000</td>\n",
              "      <td>1.000000</td>\n",
              "      <td>1.000000</td>\n",
              "      <td>1.000000</td>\n",
              "      <td>1.000000</td>\n",
              "      <td>1.000000</td>\n",
              "      <td>1.000000</td>\n",
              "      <td>1.000000</td>\n",
              "      <td>1.000000</td>\n",
              "      <td>1.000000</td>\n",
              "      <td>1.000000</td>\n",
              "      <td>1.000000</td>\n",
              "      <td>1.000000</td>\n",
              "      <td>1.000000</td>\n",
              "      <td>1.000000</td>\n",
              "      <td>1.000000</td>\n",
              "      <td>1.000000</td>\n",
              "      <td>1.000000</td>\n",
              "      <td>1.000000</td>\n",
              "      <td>1.000000</td>\n",
              "      <td>1.000000</td>\n",
              "      <td>1.000000</td>\n",
              "      <td>1.000000</td>\n",
              "      <td>1.000000</td>\n",
              "      <td>1.000000</td>\n",
              "      <td>1.000000</td>\n",
              "    </tr>\n",
              "  </tbody>\n",
              "</table>\n",
              "</div>"
            ],
            "text/plain": [
              "               0           1           2   ...          27          28          29\n",
              "count  569.000000  569.000000  569.000000  ...  569.000000  569.000000  569.000000\n",
              "mean     0.338222    0.323965    0.332935  ...    0.393836    0.263307    0.189596\n",
              "std      0.166787    0.145453    0.167915  ...    0.225884    0.121954    0.118466\n",
              "min      0.000000    0.000000    0.000000  ...    0.000000    0.000000    0.000000\n",
              "25%      0.223342    0.218465    0.216847  ...    0.223127    0.185098    0.107700\n",
              "50%      0.302381    0.308759    0.293345  ...    0.343402    0.247782    0.163977\n",
              "75%      0.416442    0.408860    0.416765  ...    0.554639    0.318155    0.242949\n",
              "max      1.000000    1.000000    1.000000  ...    1.000000    1.000000    1.000000\n",
              "\n",
              "[8 rows x 30 columns]"
            ]
          },
          "metadata": {
            "tags": []
          },
          "execution_count": 44
        }
      ]
    },
    {
      "cell_type": "markdown",
      "metadata": {
        "id": "SXkpRNZ6QYfe"
      },
      "source": [
        "# 2 데이터 세트 분리하기 (Training & Validation)\n",
        "- 가지고 있는 데이터를 모두 사용해서 분류 모델을 만들 수도 있지만, <br>\n",
        "지금은 실제로 생성한 분류 모델의 성능을 테스트를 해봐야 하니까 <br>\n",
        "학습(training) 세트와 검증(validation) 세트를 분리해보겠습니다. <br>\n",
        "- 모든 데이터에는 분류된 레이블(target)이 있으니, <br>\n",
        "검증 데이터를 예측 모델에 넣어서 실제 그 레이블(정답)을 잘 맞추는지 보기 위함입니다.<br>\n",
        "- 데이터 세트 분리는 사이킷런의 train_test_split을 통해 손쉽게 할 수 있습니다.\n",
        "- 데이터 세트를 나누는 비율을 지정할 수도 있는데, 일반적으로 0.75:0.25, 즉 3:1이라고 합니다."
      ]
    },
    {
      "cell_type": "code",
      "metadata": {
        "id": "cVklYLvJPLB9"
      },
      "source": [
        "from sklearn.model_selection import train_test_split\n",
        "training_data, validation_data , training_labels, validation_labels = train_test_split(df_data, df_labels, test_size = 0.2, random_state = 100)"
      ],
      "execution_count": null,
      "outputs": []
    },
    {
      "cell_type": "code",
      "metadata": {
        "id": "GMSyzFXTRBm7",
        "outputId": "abd9e0bc-27af-49fb-9d95-7b6e9bb5d5cf",
        "colab": {
          "base_uri": "https://localhost:8080/",
          "height": 85
        }
      },
      "source": [
        "# 나눠진 데이터 개수를 찍어봅시다.\n",
        "print(len(training_data))\n",
        "print(len(validation_data))\n",
        "print(len(training_labels))\n",
        "print(len(validation_labels))\n",
        "# 455:144 대략 8:2로 분리된 걸 확인할 수 있습니다."
      ],
      "execution_count": null,
      "outputs": [
        {
          "output_type": "stream",
          "text": [
            "455\n",
            "114\n",
            "455\n",
            "114\n"
          ],
          "name": "stdout"
        }
      ]
    },
    {
      "cell_type": "markdown",
      "metadata": {
        "id": "ygiIcl89SZ2W"
      },
      "source": [
        "# 3 모델 생성하기\n",
        "- 이제 학습 데이터를 가지고 모델을 생성할 것입니다. k=3으로 지정해봅니다.\n"
      ]
    },
    {
      "cell_type": "code",
      "metadata": {
        "id": "kCjnS3l2STyO",
        "outputId": "b42e57e8-3fdd-45c8-99eb-eb20ca898481",
        "colab": {
          "base_uri": "https://localhost:8080/",
          "height": 122
        }
      },
      "source": [
        "from sklearn.neighbors import KNeighborsClassifier\n",
        "classifier = KNeighborsClassifier(n_neighbors = 3)\n",
        "\n",
        "# 이제 위에서 나눠놓은 학습 데이터 세트(training_data, training_labels)로 학습시켜보겠습니다.\n",
        "classifier.fit(training_data, training_labels)"
      ],
      "execution_count": null,
      "outputs": [
        {
          "output_type": "stream",
          "text": [
            "/usr/local/lib/python3.6/dist-packages/ipykernel_launcher.py:5: DataConversionWarning: A column-vector y was passed when a 1d array was expected. Please change the shape of y to (n_samples, ), for example using ravel().\n",
            "  \"\"\"\n"
          ],
          "name": "stderr"
        },
        {
          "output_type": "execute_result",
          "data": {
            "text/plain": [
              "KNeighborsClassifier(algorithm='auto', leaf_size=30, metric='minkowski',\n",
              "                     metric_params=None, n_jobs=None, n_neighbors=3, p=2,\n",
              "                     weights='uniform')"
            ]
          },
          "metadata": {
            "tags": []
          },
          "execution_count": 47
        }
      ]
    },
    {
      "cell_type": "markdown",
      "metadata": {
        "id": "FRuj1-dbzBAC"
      },
      "source": [
        "# 4 모델의 정확도(Accuracy) 평가하기\n",
        "\n",
        "- 위에서 데이터 세트를 나눠놨기 때문에 학습시킨 모델을 바로 테스트 할 수 있습니다.\n",
        "- 이때 당연히 검증 세트의 데이터와 레이블을 넣어줘야 합니다.\n",
        "- KNeighborsClassifier에서는 .score()를 쓰면 모델의 정확도를 바로 확인할 수 있습니다."
      ]
    },
    {
      "cell_type": "code",
      "metadata": {
        "id": "lvvVWaRtSdNe",
        "outputId": "155c6735-b9f6-4198-ac1f-f4d26fb7309f",
        "colab": {
          "base_uri": "https://localhost:8080/",
          "height": 34
        }
      },
      "source": [
        "print(classifier.score(validation_data, validation_labels))"
      ],
      "execution_count": null,
      "outputs": [
        {
          "output_type": "stream",
          "text": [
            "0.9649122807017544\n"
          ],
          "name": "stdout"
        }
      ]
    },
    {
      "cell_type": "markdown",
      "metadata": {
        "id": "H3NBEHgF2xzl"
      },
      "source": [
        "k = 3 일때 정확도가 96.49%로 꽤 높게 측정되었습니다. <br>\n",
        "이제 k 값이 정확도에 미치는 영향이 궁금해집니다. <br>\n",
        "따라서 k = 1~100 로 적용하여 테스트 해보기로 합니다."
      ]
    },
    {
      "cell_type": "code",
      "metadata": {
        "id": "D4uyT-waSdTd",
        "outputId": "1bf41a0f-8d28-44f1-8ecb-ac67fa41bf26",
        "colab": {
          "base_uri": "https://localhost:8080/",
          "height": 1000
        }
      },
      "source": [
        "import matplotlib.pyplot as plt\n",
        "k_list = range(1,101)\n",
        "accuracies = []\n",
        "for k in k_list:\n",
        "  classifier = KNeighborsClassifier(n_neighbors = k)\n",
        "  classifier.fit(training_data, training_labels)\n",
        "  accuracies.append(classifier.score(validation_data, validation_labels))\n",
        "plt.plot(k_list, accuracies)\n",
        "plt.xlabel(\"k\")\n",
        "plt.ylabel(\"Validation Accuracy\")\n",
        "plt.title(\"Breast Cancer Classifier Accuracy\")\n",
        "plt.show()"
      ],
      "execution_count": null,
      "outputs": [
        {
          "output_type": "stream",
          "text": [
            "/usr/local/lib/python3.6/dist-packages/ipykernel_launcher.py:6: DataConversionWarning: A column-vector y was passed when a 1d array was expected. Please change the shape of y to (n_samples, ), for example using ravel().\n",
            "  \n",
            "/usr/local/lib/python3.6/dist-packages/ipykernel_launcher.py:6: DataConversionWarning: A column-vector y was passed when a 1d array was expected. Please change the shape of y to (n_samples, ), for example using ravel().\n",
            "  \n",
            "/usr/local/lib/python3.6/dist-packages/ipykernel_launcher.py:6: DataConversionWarning: A column-vector y was passed when a 1d array was expected. Please change the shape of y to (n_samples, ), for example using ravel().\n",
            "  \n",
            "/usr/local/lib/python3.6/dist-packages/ipykernel_launcher.py:6: DataConversionWarning: A column-vector y was passed when a 1d array was expected. Please change the shape of y to (n_samples, ), for example using ravel().\n",
            "  \n",
            "/usr/local/lib/python3.6/dist-packages/ipykernel_launcher.py:6: DataConversionWarning: A column-vector y was passed when a 1d array was expected. Please change the shape of y to (n_samples, ), for example using ravel().\n",
            "  \n",
            "/usr/local/lib/python3.6/dist-packages/ipykernel_launcher.py:6: DataConversionWarning: A column-vector y was passed when a 1d array was expected. Please change the shape of y to (n_samples, ), for example using ravel().\n",
            "  \n",
            "/usr/local/lib/python3.6/dist-packages/ipykernel_launcher.py:6: DataConversionWarning: A column-vector y was passed when a 1d array was expected. Please change the shape of y to (n_samples, ), for example using ravel().\n",
            "  \n",
            "/usr/local/lib/python3.6/dist-packages/ipykernel_launcher.py:6: DataConversionWarning: A column-vector y was passed when a 1d array was expected. Please change the shape of y to (n_samples, ), for example using ravel().\n",
            "  \n",
            "/usr/local/lib/python3.6/dist-packages/ipykernel_launcher.py:6: DataConversionWarning: A column-vector y was passed when a 1d array was expected. Please change the shape of y to (n_samples, ), for example using ravel().\n",
            "  \n",
            "/usr/local/lib/python3.6/dist-packages/ipykernel_launcher.py:6: DataConversionWarning: A column-vector y was passed when a 1d array was expected. Please change the shape of y to (n_samples, ), for example using ravel().\n",
            "  \n",
            "/usr/local/lib/python3.6/dist-packages/ipykernel_launcher.py:6: DataConversionWarning: A column-vector y was passed when a 1d array was expected. Please change the shape of y to (n_samples, ), for example using ravel().\n",
            "  \n",
            "/usr/local/lib/python3.6/dist-packages/ipykernel_launcher.py:6: DataConversionWarning: A column-vector y was passed when a 1d array was expected. Please change the shape of y to (n_samples, ), for example using ravel().\n",
            "  \n",
            "/usr/local/lib/python3.6/dist-packages/ipykernel_launcher.py:6: DataConversionWarning: A column-vector y was passed when a 1d array was expected. Please change the shape of y to (n_samples, ), for example using ravel().\n",
            "  \n",
            "/usr/local/lib/python3.6/dist-packages/ipykernel_launcher.py:6: DataConversionWarning: A column-vector y was passed when a 1d array was expected. Please change the shape of y to (n_samples, ), for example using ravel().\n",
            "  \n",
            "/usr/local/lib/python3.6/dist-packages/ipykernel_launcher.py:6: DataConversionWarning: A column-vector y was passed when a 1d array was expected. Please change the shape of y to (n_samples, ), for example using ravel().\n",
            "  \n",
            "/usr/local/lib/python3.6/dist-packages/ipykernel_launcher.py:6: DataConversionWarning: A column-vector y was passed when a 1d array was expected. Please change the shape of y to (n_samples, ), for example using ravel().\n",
            "  \n",
            "/usr/local/lib/python3.6/dist-packages/ipykernel_launcher.py:6: DataConversionWarning: A column-vector y was passed when a 1d array was expected. Please change the shape of y to (n_samples, ), for example using ravel().\n",
            "  \n",
            "/usr/local/lib/python3.6/dist-packages/ipykernel_launcher.py:6: DataConversionWarning: A column-vector y was passed when a 1d array was expected. Please change the shape of y to (n_samples, ), for example using ravel().\n",
            "  \n",
            "/usr/local/lib/python3.6/dist-packages/ipykernel_launcher.py:6: DataConversionWarning: A column-vector y was passed when a 1d array was expected. Please change the shape of y to (n_samples, ), for example using ravel().\n",
            "  \n",
            "/usr/local/lib/python3.6/dist-packages/ipykernel_launcher.py:6: DataConversionWarning: A column-vector y was passed when a 1d array was expected. Please change the shape of y to (n_samples, ), for example using ravel().\n",
            "  \n",
            "/usr/local/lib/python3.6/dist-packages/ipykernel_launcher.py:6: DataConversionWarning: A column-vector y was passed when a 1d array was expected. Please change the shape of y to (n_samples, ), for example using ravel().\n",
            "  \n",
            "/usr/local/lib/python3.6/dist-packages/ipykernel_launcher.py:6: DataConversionWarning: A column-vector y was passed when a 1d array was expected. Please change the shape of y to (n_samples, ), for example using ravel().\n",
            "  \n",
            "/usr/local/lib/python3.6/dist-packages/ipykernel_launcher.py:6: DataConversionWarning: A column-vector y was passed when a 1d array was expected. Please change the shape of y to (n_samples, ), for example using ravel().\n",
            "  \n",
            "/usr/local/lib/python3.6/dist-packages/ipykernel_launcher.py:6: DataConversionWarning: A column-vector y was passed when a 1d array was expected. Please change the shape of y to (n_samples, ), for example using ravel().\n",
            "  \n",
            "/usr/local/lib/python3.6/dist-packages/ipykernel_launcher.py:6: DataConversionWarning: A column-vector y was passed when a 1d array was expected. Please change the shape of y to (n_samples, ), for example using ravel().\n",
            "  \n",
            "/usr/local/lib/python3.6/dist-packages/ipykernel_launcher.py:6: DataConversionWarning: A column-vector y was passed when a 1d array was expected. Please change the shape of y to (n_samples, ), for example using ravel().\n",
            "  \n",
            "/usr/local/lib/python3.6/dist-packages/ipykernel_launcher.py:6: DataConversionWarning: A column-vector y was passed when a 1d array was expected. Please change the shape of y to (n_samples, ), for example using ravel().\n",
            "  \n",
            "/usr/local/lib/python3.6/dist-packages/ipykernel_launcher.py:6: DataConversionWarning: A column-vector y was passed when a 1d array was expected. Please change the shape of y to (n_samples, ), for example using ravel().\n",
            "  \n",
            "/usr/local/lib/python3.6/dist-packages/ipykernel_launcher.py:6: DataConversionWarning: A column-vector y was passed when a 1d array was expected. Please change the shape of y to (n_samples, ), for example using ravel().\n",
            "  \n",
            "/usr/local/lib/python3.6/dist-packages/ipykernel_launcher.py:6: DataConversionWarning: A column-vector y was passed when a 1d array was expected. Please change the shape of y to (n_samples, ), for example using ravel().\n",
            "  \n",
            "/usr/local/lib/python3.6/dist-packages/ipykernel_launcher.py:6: DataConversionWarning: A column-vector y was passed when a 1d array was expected. Please change the shape of y to (n_samples, ), for example using ravel().\n",
            "  \n",
            "/usr/local/lib/python3.6/dist-packages/ipykernel_launcher.py:6: DataConversionWarning: A column-vector y was passed when a 1d array was expected. Please change the shape of y to (n_samples, ), for example using ravel().\n",
            "  \n",
            "/usr/local/lib/python3.6/dist-packages/ipykernel_launcher.py:6: DataConversionWarning: A column-vector y was passed when a 1d array was expected. Please change the shape of y to (n_samples, ), for example using ravel().\n",
            "  \n",
            "/usr/local/lib/python3.6/dist-packages/ipykernel_launcher.py:6: DataConversionWarning: A column-vector y was passed when a 1d array was expected. Please change the shape of y to (n_samples, ), for example using ravel().\n",
            "  \n",
            "/usr/local/lib/python3.6/dist-packages/ipykernel_launcher.py:6: DataConversionWarning: A column-vector y was passed when a 1d array was expected. Please change the shape of y to (n_samples, ), for example using ravel().\n",
            "  \n",
            "/usr/local/lib/python3.6/dist-packages/ipykernel_launcher.py:6: DataConversionWarning: A column-vector y was passed when a 1d array was expected. Please change the shape of y to (n_samples, ), for example using ravel().\n",
            "  \n",
            "/usr/local/lib/python3.6/dist-packages/ipykernel_launcher.py:6: DataConversionWarning: A column-vector y was passed when a 1d array was expected. Please change the shape of y to (n_samples, ), for example using ravel().\n",
            "  \n",
            "/usr/local/lib/python3.6/dist-packages/ipykernel_launcher.py:6: DataConversionWarning: A column-vector y was passed when a 1d array was expected. Please change the shape of y to (n_samples, ), for example using ravel().\n",
            "  \n",
            "/usr/local/lib/python3.6/dist-packages/ipykernel_launcher.py:6: DataConversionWarning: A column-vector y was passed when a 1d array was expected. Please change the shape of y to (n_samples, ), for example using ravel().\n",
            "  \n",
            "/usr/local/lib/python3.6/dist-packages/ipykernel_launcher.py:6: DataConversionWarning: A column-vector y was passed when a 1d array was expected. Please change the shape of y to (n_samples, ), for example using ravel().\n",
            "  \n",
            "/usr/local/lib/python3.6/dist-packages/ipykernel_launcher.py:6: DataConversionWarning: A column-vector y was passed when a 1d array was expected. Please change the shape of y to (n_samples, ), for example using ravel().\n",
            "  \n",
            "/usr/local/lib/python3.6/dist-packages/ipykernel_launcher.py:6: DataConversionWarning: A column-vector y was passed when a 1d array was expected. Please change the shape of y to (n_samples, ), for example using ravel().\n",
            "  \n",
            "/usr/local/lib/python3.6/dist-packages/ipykernel_launcher.py:6: DataConversionWarning: A column-vector y was passed when a 1d array was expected. Please change the shape of y to (n_samples, ), for example using ravel().\n",
            "  \n",
            "/usr/local/lib/python3.6/dist-packages/ipykernel_launcher.py:6: DataConversionWarning: A column-vector y was passed when a 1d array was expected. Please change the shape of y to (n_samples, ), for example using ravel().\n",
            "  \n",
            "/usr/local/lib/python3.6/dist-packages/ipykernel_launcher.py:6: DataConversionWarning: A column-vector y was passed when a 1d array was expected. Please change the shape of y to (n_samples, ), for example using ravel().\n",
            "  \n",
            "/usr/local/lib/python3.6/dist-packages/ipykernel_launcher.py:6: DataConversionWarning: A column-vector y was passed when a 1d array was expected. Please change the shape of y to (n_samples, ), for example using ravel().\n",
            "  \n",
            "/usr/local/lib/python3.6/dist-packages/ipykernel_launcher.py:6: DataConversionWarning: A column-vector y was passed when a 1d array was expected. Please change the shape of y to (n_samples, ), for example using ravel().\n",
            "  \n",
            "/usr/local/lib/python3.6/dist-packages/ipykernel_launcher.py:6: DataConversionWarning: A column-vector y was passed when a 1d array was expected. Please change the shape of y to (n_samples, ), for example using ravel().\n",
            "  \n",
            "/usr/local/lib/python3.6/dist-packages/ipykernel_launcher.py:6: DataConversionWarning: A column-vector y was passed when a 1d array was expected. Please change the shape of y to (n_samples, ), for example using ravel().\n",
            "  \n",
            "/usr/local/lib/python3.6/dist-packages/ipykernel_launcher.py:6: DataConversionWarning: A column-vector y was passed when a 1d array was expected. Please change the shape of y to (n_samples, ), for example using ravel().\n",
            "  \n",
            "/usr/local/lib/python3.6/dist-packages/ipykernel_launcher.py:6: DataConversionWarning: A column-vector y was passed when a 1d array was expected. Please change the shape of y to (n_samples, ), for example using ravel().\n",
            "  \n",
            "/usr/local/lib/python3.6/dist-packages/ipykernel_launcher.py:6: DataConversionWarning: A column-vector y was passed when a 1d array was expected. Please change the shape of y to (n_samples, ), for example using ravel().\n",
            "  \n",
            "/usr/local/lib/python3.6/dist-packages/ipykernel_launcher.py:6: DataConversionWarning: A column-vector y was passed when a 1d array was expected. Please change the shape of y to (n_samples, ), for example using ravel().\n",
            "  \n",
            "/usr/local/lib/python3.6/dist-packages/ipykernel_launcher.py:6: DataConversionWarning: A column-vector y was passed when a 1d array was expected. Please change the shape of y to (n_samples, ), for example using ravel().\n",
            "  \n",
            "/usr/local/lib/python3.6/dist-packages/ipykernel_launcher.py:6: DataConversionWarning: A column-vector y was passed when a 1d array was expected. Please change the shape of y to (n_samples, ), for example using ravel().\n",
            "  \n",
            "/usr/local/lib/python3.6/dist-packages/ipykernel_launcher.py:6: DataConversionWarning: A column-vector y was passed when a 1d array was expected. Please change the shape of y to (n_samples, ), for example using ravel().\n",
            "  \n",
            "/usr/local/lib/python3.6/dist-packages/ipykernel_launcher.py:6: DataConversionWarning: A column-vector y was passed when a 1d array was expected. Please change the shape of y to (n_samples, ), for example using ravel().\n",
            "  \n",
            "/usr/local/lib/python3.6/dist-packages/ipykernel_launcher.py:6: DataConversionWarning: A column-vector y was passed when a 1d array was expected. Please change the shape of y to (n_samples, ), for example using ravel().\n",
            "  \n",
            "/usr/local/lib/python3.6/dist-packages/ipykernel_launcher.py:6: DataConversionWarning: A column-vector y was passed when a 1d array was expected. Please change the shape of y to (n_samples, ), for example using ravel().\n",
            "  \n",
            "/usr/local/lib/python3.6/dist-packages/ipykernel_launcher.py:6: DataConversionWarning: A column-vector y was passed when a 1d array was expected. Please change the shape of y to (n_samples, ), for example using ravel().\n",
            "  \n",
            "/usr/local/lib/python3.6/dist-packages/ipykernel_launcher.py:6: DataConversionWarning: A column-vector y was passed when a 1d array was expected. Please change the shape of y to (n_samples, ), for example using ravel().\n",
            "  \n",
            "/usr/local/lib/python3.6/dist-packages/ipykernel_launcher.py:6: DataConversionWarning: A column-vector y was passed when a 1d array was expected. Please change the shape of y to (n_samples, ), for example using ravel().\n",
            "  \n",
            "/usr/local/lib/python3.6/dist-packages/ipykernel_launcher.py:6: DataConversionWarning: A column-vector y was passed when a 1d array was expected. Please change the shape of y to (n_samples, ), for example using ravel().\n",
            "  \n",
            "/usr/local/lib/python3.6/dist-packages/ipykernel_launcher.py:6: DataConversionWarning: A column-vector y was passed when a 1d array was expected. Please change the shape of y to (n_samples, ), for example using ravel().\n",
            "  \n",
            "/usr/local/lib/python3.6/dist-packages/ipykernel_launcher.py:6: DataConversionWarning: A column-vector y was passed when a 1d array was expected. Please change the shape of y to (n_samples, ), for example using ravel().\n",
            "  \n",
            "/usr/local/lib/python3.6/dist-packages/ipykernel_launcher.py:6: DataConversionWarning: A column-vector y was passed when a 1d array was expected. Please change the shape of y to (n_samples, ), for example using ravel().\n",
            "  \n",
            "/usr/local/lib/python3.6/dist-packages/ipykernel_launcher.py:6: DataConversionWarning: A column-vector y was passed when a 1d array was expected. Please change the shape of y to (n_samples, ), for example using ravel().\n",
            "  \n",
            "/usr/local/lib/python3.6/dist-packages/ipykernel_launcher.py:6: DataConversionWarning: A column-vector y was passed when a 1d array was expected. Please change the shape of y to (n_samples, ), for example using ravel().\n",
            "  \n",
            "/usr/local/lib/python3.6/dist-packages/ipykernel_launcher.py:6: DataConversionWarning: A column-vector y was passed when a 1d array was expected. Please change the shape of y to (n_samples, ), for example using ravel().\n",
            "  \n",
            "/usr/local/lib/python3.6/dist-packages/ipykernel_launcher.py:6: DataConversionWarning: A column-vector y was passed when a 1d array was expected. Please change the shape of y to (n_samples, ), for example using ravel().\n",
            "  \n",
            "/usr/local/lib/python3.6/dist-packages/ipykernel_launcher.py:6: DataConversionWarning: A column-vector y was passed when a 1d array was expected. Please change the shape of y to (n_samples, ), for example using ravel().\n",
            "  \n",
            "/usr/local/lib/python3.6/dist-packages/ipykernel_launcher.py:6: DataConversionWarning: A column-vector y was passed when a 1d array was expected. Please change the shape of y to (n_samples, ), for example using ravel().\n",
            "  \n",
            "/usr/local/lib/python3.6/dist-packages/ipykernel_launcher.py:6: DataConversionWarning: A column-vector y was passed when a 1d array was expected. Please change the shape of y to (n_samples, ), for example using ravel().\n",
            "  \n",
            "/usr/local/lib/python3.6/dist-packages/ipykernel_launcher.py:6: DataConversionWarning: A column-vector y was passed when a 1d array was expected. Please change the shape of y to (n_samples, ), for example using ravel().\n",
            "  \n",
            "/usr/local/lib/python3.6/dist-packages/ipykernel_launcher.py:6: DataConversionWarning: A column-vector y was passed when a 1d array was expected. Please change the shape of y to (n_samples, ), for example using ravel().\n",
            "  \n",
            "/usr/local/lib/python3.6/dist-packages/ipykernel_launcher.py:6: DataConversionWarning: A column-vector y was passed when a 1d array was expected. Please change the shape of y to (n_samples, ), for example using ravel().\n",
            "  \n",
            "/usr/local/lib/python3.6/dist-packages/ipykernel_launcher.py:6: DataConversionWarning: A column-vector y was passed when a 1d array was expected. Please change the shape of y to (n_samples, ), for example using ravel().\n",
            "  \n",
            "/usr/local/lib/python3.6/dist-packages/ipykernel_launcher.py:6: DataConversionWarning: A column-vector y was passed when a 1d array was expected. Please change the shape of y to (n_samples, ), for example using ravel().\n",
            "  \n",
            "/usr/local/lib/python3.6/dist-packages/ipykernel_launcher.py:6: DataConversionWarning: A column-vector y was passed when a 1d array was expected. Please change the shape of y to (n_samples, ), for example using ravel().\n",
            "  \n",
            "/usr/local/lib/python3.6/dist-packages/ipykernel_launcher.py:6: DataConversionWarning: A column-vector y was passed when a 1d array was expected. Please change the shape of y to (n_samples, ), for example using ravel().\n",
            "  \n",
            "/usr/local/lib/python3.6/dist-packages/ipykernel_launcher.py:6: DataConversionWarning: A column-vector y was passed when a 1d array was expected. Please change the shape of y to (n_samples, ), for example using ravel().\n",
            "  \n",
            "/usr/local/lib/python3.6/dist-packages/ipykernel_launcher.py:6: DataConversionWarning: A column-vector y was passed when a 1d array was expected. Please change the shape of y to (n_samples, ), for example using ravel().\n",
            "  \n",
            "/usr/local/lib/python3.6/dist-packages/ipykernel_launcher.py:6: DataConversionWarning: A column-vector y was passed when a 1d array was expected. Please change the shape of y to (n_samples, ), for example using ravel().\n",
            "  \n",
            "/usr/local/lib/python3.6/dist-packages/ipykernel_launcher.py:6: DataConversionWarning: A column-vector y was passed when a 1d array was expected. Please change the shape of y to (n_samples, ), for example using ravel().\n",
            "  \n",
            "/usr/local/lib/python3.6/dist-packages/ipykernel_launcher.py:6: DataConversionWarning: A column-vector y was passed when a 1d array was expected. Please change the shape of y to (n_samples, ), for example using ravel().\n",
            "  \n",
            "/usr/local/lib/python3.6/dist-packages/ipykernel_launcher.py:6: DataConversionWarning: A column-vector y was passed when a 1d array was expected. Please change the shape of y to (n_samples, ), for example using ravel().\n",
            "  \n",
            "/usr/local/lib/python3.6/dist-packages/ipykernel_launcher.py:6: DataConversionWarning: A column-vector y was passed when a 1d array was expected. Please change the shape of y to (n_samples, ), for example using ravel().\n",
            "  \n",
            "/usr/local/lib/python3.6/dist-packages/ipykernel_launcher.py:6: DataConversionWarning: A column-vector y was passed when a 1d array was expected. Please change the shape of y to (n_samples, ), for example using ravel().\n",
            "  \n",
            "/usr/local/lib/python3.6/dist-packages/ipykernel_launcher.py:6: DataConversionWarning: A column-vector y was passed when a 1d array was expected. Please change the shape of y to (n_samples, ), for example using ravel().\n",
            "  \n",
            "/usr/local/lib/python3.6/dist-packages/ipykernel_launcher.py:6: DataConversionWarning: A column-vector y was passed when a 1d array was expected. Please change the shape of y to (n_samples, ), for example using ravel().\n",
            "  \n",
            "/usr/local/lib/python3.6/dist-packages/ipykernel_launcher.py:6: DataConversionWarning: A column-vector y was passed when a 1d array was expected. Please change the shape of y to (n_samples, ), for example using ravel().\n",
            "  \n",
            "/usr/local/lib/python3.6/dist-packages/ipykernel_launcher.py:6: DataConversionWarning: A column-vector y was passed when a 1d array was expected. Please change the shape of y to (n_samples, ), for example using ravel().\n",
            "  \n",
            "/usr/local/lib/python3.6/dist-packages/ipykernel_launcher.py:6: DataConversionWarning: A column-vector y was passed when a 1d array was expected. Please change the shape of y to (n_samples, ), for example using ravel().\n",
            "  \n",
            "/usr/local/lib/python3.6/dist-packages/ipykernel_launcher.py:6: DataConversionWarning: A column-vector y was passed when a 1d array was expected. Please change the shape of y to (n_samples, ), for example using ravel().\n",
            "  \n",
            "/usr/local/lib/python3.6/dist-packages/ipykernel_launcher.py:6: DataConversionWarning: A column-vector y was passed when a 1d array was expected. Please change the shape of y to (n_samples, ), for example using ravel().\n",
            "  \n",
            "/usr/local/lib/python3.6/dist-packages/ipykernel_launcher.py:6: DataConversionWarning: A column-vector y was passed when a 1d array was expected. Please change the shape of y to (n_samples, ), for example using ravel().\n",
            "  \n",
            "/usr/local/lib/python3.6/dist-packages/ipykernel_launcher.py:6: DataConversionWarning: A column-vector y was passed when a 1d array was expected. Please change the shape of y to (n_samples, ), for example using ravel().\n",
            "  \n",
            "/usr/local/lib/python3.6/dist-packages/ipykernel_launcher.py:6: DataConversionWarning: A column-vector y was passed when a 1d array was expected. Please change the shape of y to (n_samples, ), for example using ravel().\n",
            "  \n",
            "/usr/local/lib/python3.6/dist-packages/ipykernel_launcher.py:6: DataConversionWarning: A column-vector y was passed when a 1d array was expected. Please change the shape of y to (n_samples, ), for example using ravel().\n",
            "  \n",
            "/usr/local/lib/python3.6/dist-packages/ipykernel_launcher.py:6: DataConversionWarning: A column-vector y was passed when a 1d array was expected. Please change the shape of y to (n_samples, ), for example using ravel().\n",
            "  \n"
          ],
          "name": "stderr"
        },
        {
          "output_type": "display_data",
          "data": {
            "image/png": "[encoded data removed]",
            "text/plain": [
              "<Figure size 432x288 with 1 Axes>"
            ]
          },
          "metadata": {
            "tags": [],
            "needs_background": "light"
          }
        }
      ]
    },
    {
      "cell_type": "markdown",
      "metadata": {
        "id": "L8P_L7kG3JGj"
      },
      "source": [
        "- 먼저 노트, underfitting 은 모델이 학습 오류를 줄이지 못하는 상황을 의미하고, 오버피팅(overfitting)은 모델 학습 오류가 테스트 데이터의 오류보다 훨씬 작은 경우를 의미합니다.\n",
        "- k가 커질수록 underfitting이 생겨서 정확도가 떨어지는 걸 확인할 수 있는데, 모델이 대충 대충 집어서 확인하게 되기 때문에 벌어지는 현상입니다.\n",
        "- 어쨌든 적절한 k값을 찾아 분류 모델을 생성해주면 되겠습니다. 또한 이후에 .predict()로 레이블을 예측하는 것도 가능하겠습니다."
      ]
    },
    {
      "cell_type": "markdown",
      "metadata": {
        "id": "BXIMV1T0GbQ9"
      },
      "source": [
        "# 이제 Decision Tree 가 무엇인지 궁금해졌다고 가정하고 <br> 저희가 가진 데이터에 적용해 보기로 합니다.\n",
        "\n",
        "- 의사결정 트리는 특정 항목에 대한 측정값을 목표가 되는 값에 매핑시켜주는 분석기법으로, 의사결정과정의 규칙을 이용해서 Tree 구조로 만든 분류모델 이라고 합니다.\n",
        "- 제가 보기엔 스무고개랑 비슷한 매커니즘입니다."
      ]
    },
    {
      "cell_type": "code",
      "metadata": {
        "id": "p4OIBxBs3D4D"
      },
      "source": [
        "# 관련 라이브러리와 데이터 로드\n",
        "import sklearn\n",
        "from sklearn.tree import DecisionTreeClassifier, export_graphviz\n",
        "from sklearn.model_selection import train_test_split \n",
        "import pydot #의사결정트리를 쉽게 시각화 할때 쓰는 아이라고 합니다. 궁금하니 사용해보기로 합니다.\n",
        "\n",
        "\n",
        "# KNN예제를 따로 실행시키지 않아도 되도록 샘플 데이터 다시 로드.\n",
        "from sklearn.datasets import load_breast_cancer \n",
        "cancer = load_breast_cancer()\n",
        "\n",
        "# 훈련, 테스트 데이터 셔플하기\n",
        "X_train, X_test, y_train, y_test = train_test_split(\n",
        "    cancer.data, cancer.target, stratify =  cancer.target, random_state = 42)\n",
        "# 위에서 stratify ... 라고 하는 부분을 찾아보니 지정한 데이터의 비율을 유지해주는 아이라고 합니다.\n",
        "# 만약 라벨셋인 y가 25%의  0과 75%의 1로 이루어진 바이너리 데이터셋일때\n",
        "# stratify = y 로 설정하면 스플릿 된 데이터셋들도 0과 1이 각각 25%, 75%로\n",
        "# 유지된 채 분할된다고 합니다. 유용하겠네요."
      ],
      "execution_count": null,
      "outputs": []
    },
    {
      "cell_type": "code",
      "metadata": {
        "id": "Uebv6njDH7Zr",
        "outputId": "b34ca764-ec8a-4446-8c1d-b5bfe3da1ffc",
        "colab": {
          "base_uri": "https://localhost:8080/"
        }
      },
      "source": [
        "#Decision Tree 선언하기\n",
        "dTreeAll = DecisionTreeClassifier(random_state=0)\n",
        "\n",
        "#훈련 (모든 리프 노드 사용해서 학습시키기)\n",
        "dTreeAll.fit(X_train, y_train)"
      ],
      "execution_count": null,
      "outputs": [
        {
          "output_type": "execute_result",
          "data": {
            "text/plain": [
              "DecisionTreeClassifier(ccp_alpha=0.0, class_weight=None, criterion='gini',\n",
              "                       max_depth=None, max_features=None, max_leaf_nodes=None,\n",
              "                       min_impurity_decrease=0.0, min_impurity_split=None,\n",
              "                       min_samples_leaf=1, min_samples_split=2,\n",
              "                       min_weight_fraction_leaf=0.0, presort='deprecated',\n",
              "                       random_state=0, splitter='best')"
            ]
          },
          "metadata": {
            "tags": []
          },
          "execution_count": 17
        }
      ]
    },
    {
      "cell_type": "code",
      "metadata": {
        "id": "iY43AW6_JZHc",
        "outputId": "3375dbcc-c2c5-4b7e-ea82-380a5ecc5c97",
        "colab": {
          "base_uri": "https://localhost:8080/"
        }
      },
      "source": [
        "#위 결과에 대해 모델 평가해보기\n",
        "print(\"Train Set Score1 : {:.2f}\".format(dTreeAll.score(X_train, y_train)))\n",
        "print(\"Test Set Score1 : {}:.2f\".format(dTreeAll.score(X_test, y_test)))"
      ],
      "execution_count": null,
      "outputs": [
        {
          "output_type": "stream",
          "text": [
            "Train Set Score1 : 1.00\n",
            "Test Set Score1 : 0.9370629370629371:.2f\n"
          ],
          "name": "stdout"
        }
      ]
    },
    {
      "cell_type": "markdown",
      "metadata": {
        "id": "zF8GBetwUOR8"
      },
      "source": [
        "- 트레인 셋의 점수가 1.00 인 당혹스런 현상에 대해서는 선생님께서 설명해주실 것입니다.\n",
        "- 제가 참조한 예제에서 작가분께서는 깊이(Depth) 가 커지면 새로운 데이터를 적용하기가 곤란하고, 가장 중요한 단점인 예측 오차의 수치가 비약적으로 높아지는 경우가 있다고 합니다.\n",
        "\n",
        "- 이럴 경우! 데이터 특성 파악하는 과정을 거친 후에 가지치기(pruning)를 활용하여 이 깊이를 조절해줄 필요성이 있다고 합니다.\n",
        "- 여기서 가지치기의 감도 조절 또한 가능한데, reduced error pruning 또는 rule post pruning 등의 기법을 적용해 볼 수도 있다고 합니다."
      ]
    },
    {
      "cell_type": "code",
      "metadata": {
        "id": "5No054a0J0d3",
        "outputId": "ed5ead0a-dfe2-4014-b99b-667ee1d5bc08",
        "colab": {
          "base_uri": "https://localhost:8080/"
        }
      },
      "source": [
        "# 이제 의사결정 트리를 깊이를 제한하여 다시 선언해 보겠습니다.\n",
        "dTreeLimit = DecisionTreeClassifier(max_depth=3, random_state=0)\n",
        "\n",
        "# 그리고 다시 훈련.\n",
        "dTreeLimit.fit(X_train, y_train)\n",
        "\n",
        "# 점수를 출력해봅니다.\n",
        "print(\"Train Set Score2 : {:.2f}\".format(dTreeLimit.score(X_train, y_train)))\n",
        "print(\"Test Set Score2 : {:.2f}\".format(dTreeLimit.score(X_test, y_test)))"
      ],
      "execution_count": null,
      "outputs": [
        {
          "output_type": "stream",
          "text": [
            "Train Set Score2 : 0.98\n",
            "Test Set Score2 : 0.94\n"
          ],
          "name": "stdout"
        }
      ]
    },
    {
      "cell_type": "code",
      "metadata": {
        "id": "X6-1KfCPNZM3"
      },
      "source": [
        "# graphviz 의사결정트리 시각화 작업을 시작해봅니다.\n",
        "export_graphviz(dTreeLimit, out_file=\"decisionTree1.dot\", class_names=[\"malignant\",\"benign\"],\n",
        "                feature_names=cancer.feature_names, impurity=False, filled=True)\n",
        "\n",
        "# 중요한 Encoding\n",
        "(graph,) = pydot.graph_from_dot_file('decisionTree1.dot', encoding='utf8')\n",
        "\n",
        "#Dot 파일을 Png 이미지로 저장\n",
        "graph.write_png('decisionTree1.png')\n",
        "\n",
        "# 뭔가 Files 에 저장이 되었습니다! 함께 확인해볼까요\n",
        "# 해독하는 법은 선생님께서 설명해주실거죠? (찡긋)"
      ],
      "execution_count": null,
      "outputs": []
    },
    {
      "cell_type": "markdown",
      "metadata": {
        "id": "qEzCg9FhPczd"
      },
      "source": [
        "# 이제 Perceptron을 이용한 예제입니다."
      ]
    },
    {
      "cell_type": "code",
      "metadata": {
        "id": "i_GF-D1MQDFN"
      },
      "source": [
        "# 도마와 칼, 재료를 준비해줍니다.\n",
        "# 종종 보일 MLP는 Multi-Layer Perceptron이라고도 하는 다층 퍼셉트론의 약자입니다.\n",
        "\n",
        "from sklearn.neural_network import MLPClassifier \n",
        "from sklearn.model_selection import train_test_split\n",
        "from sklearn.preprocessing import StandardScaler\n",
        "import numpy as np\n",
        "\n",
        "from sklearn.datasets import load_breast_cancer\n"
      ],
      "execution_count": null,
      "outputs": []
    },
    {
      "cell_type": "code",
      "metadata": {
        "id": "64oO4UPKQygy"
      },
      "source": [
        "cancer = load_breast_cancer()\n",
        "# x축에 input 데이터 나열하고    \n",
        "X=cancer.data  \n",
        " # y축에 타겟 데이터 나열해 줍니다.        \n",
        "y=cancer.target             \n",
        "# 훈련 데이터와 테스트 데이터로 쪼개줍니다. test_size=0.2이므로 8:2 비율입니다.\n",
        "X_train_all, X_test, y_train_all, y_test = \\\n",
        "  train_test_split(X,y,stratify=y,test_size=0.2,random_state=42)  \n",
        "# 훈련 데이터와 검증 데이터 분류. val 이라고 하는 낯선아이가 등장했습니다. \n",
        "# 새로운 아이인줄 알았더니 모델 평가를 위해 얘를 사용할 모양입니다. \n",
        "# 그렇다면 validation의 약자인것 같습니다.\n",
        "# 역시 8:2 비율입니다.\n",
        "X_train, X_val, y_train, y_val = \\\n",
        "  train_test_split(X_train_all,y_train_all,stratify=y_train_all, \\\n",
        "                   test_size=0.2,random_state=42)  "
      ],
      "execution_count": null,
      "outputs": []
    },
    {
      "cell_type": "code",
      "metadata": {
        "id": "inRXvloCSQFI"
      },
      "source": [
        "# scaler 라는 객체를 만들어서 사용할 것인데,\n",
        "# StandardScaler 는 평균과 표준편차 사용해서 데이터 특성의 스케일을 맞춰줍니다.\n",
        "scaler = StandardScaler()   \n",
        "scaler.fit(X_train)\n",
        "\n",
        "# 위의 scaler로 데이터를 표준화 전처리하는 과정입니다. \n",
        "# 구분짓기 위해 이름 뒤에 _scaled 표현도 넣어줍니다.\n",
        "X_train_scaled = scaler.transform(X_train)  \n",
        "X_val_scaled = scaler.transform(X_val)   "
      ],
      "execution_count": null,
      "outputs": []
    },
    {
      "cell_type": "code",
      "metadata": {
        "id": "ADqZ9ChKWHSx"
      },
      "source": [
        "# 이제 퍼셉트론 분류기를 사용하려나봅니다. 꺄륵.\n",
        "# 길고 무서워보이는 이름 대신에 mlp라는 별명을 주어 사용하겠습니다.\n",
        "mlp = MLPClassifier(hidden_layer_sizes=(10,), activation='logistic', \\\n",
        "                    solver='sgd', alpha=0.01, batch_size=32, \\\n",
        "                    learning_rate_init=0.1, max_iter=500)"
      ],
      "execution_count": null,
      "outputs": []
    },
    {
      "cell_type": "markdown",
      "metadata": {
        "id": "MnigO6__WXAW"
      },
      "source": [
        "- 활성화 함수로 로지스틱을 사용하였는데, 어쩐지 퍼셉트론 강의를 시작하기 전에 로지스틱 회귀 공부를 필수로 해야한다고 하더라구요. 그 이유를 아주 대충 정리해 보았습니다.\n",
        "- 먼저 퍼셉트론의 애칭이 인공 신경망이던데 얘가 모티브로 한 실제 뉴런의 동작 모습을 정리해보면 이해가 빠르겠습니다.\n",
        "- 실제 뉴런이 크게 둘로 나눈다면 Dendrite(수상돌기: 입력층, 다중일 수 있음) 과 Axon(축삭돌기: 출력층, only 하나) 이렇게 나눌 수 있습니다.\n",
        "- 실제 뉴런에서는 세포에 입력된 다수의 입력이 하나로 합산되어 하나인 axon 으로 출력 되는데, 그 값이 각각 입/출력 이라 불리는 1(on 상태), 0(off 상태) 만 가능합니다.\n",
        "- 이 입/출력\u001d을 함수로 나타낸 방식이 로지스틱 회귀와 매우 비슷하다는 것까지만 조사를 해 보았습니다.\n",
        "- 로지스틱스가 단극 시그모이드 함수라면 양극성 시그모이드도 존재하겠습니다.(쌍곡탄젠트: -1 과 1 사이의 값을 가짐.) 흥미롭네요. (하하)\n",
        "- solver 는 전에 정민님 예제에서 adam 으로 쓰였던걸 본 기억이 있는것 같습니다.\n",
        "- 여기서 해결하지 못한 질문이 하나 생겼습니다. 알아보니 사이킷런에 구현되어있는 로지스틱의 기본 solver 값이 'lbfgs'라고 하던데...\n",
        "- 저희 예제가 sgd를 사용한 특별한 의미가 있을까요? 둘 차이점이 분명히 있는것같은데 누구보다 빠르게 이해를 포기했습니다. ^^"
      ]
    },
    {
      "cell_type": "code",
      "metadata": {
        "id": "2zxUR4JKM_gi",
        "outputId": "5a97f4c7-fdf4-4e76-83fd-f04aff714ca6",
        "colab": {
          "base_uri": "https://localhost:8080/"
        }
      },
      "source": [
        "# 이제 훈련합니다.\n",
        "mlp.fit(X_train_scaled, y_train)   \n",
        " #.score() 사용하여 정확도를 평가해봅니다.\n",
        "mlp.score(X_val_scaled, y_val)"
      ],
      "execution_count": null,
      "outputs": [
        {
          "output_type": "execute_result",
          "data": {
            "text/plain": [
              "0.978021978021978"
            ]
          },
          "metadata": {
            "tags": []
          },
          "execution_count": 38
        }
      ]
    }
  ]
}